{
 "cells": [
  {
   "cell_type": "markdown",
   "metadata": {},
   "source": [
    "# Import files"
   ]
  },
  {
   "cell_type": "code",
   "execution_count": 2,
   "metadata": {
    "collapsed": false
   },
   "outputs": [],
   "source": [
    "import matplotlib.pyplot as plt\n",
    "import numpy as np\n",
    "import seaborn as sns\n",
    "import sklearn as sklearn\n",
    "import pandas as pd"
   ]
  },
  {
   "cell_type": "code",
   "execution_count": 3,
   "metadata": {
    "collapsed": true
   },
   "outputs": [],
   "source": [
    "# Showing matplotlib plots in jupyter notebook\n",
    "%matplotlib inline"
   ]
  },
  {
   "cell_type": "markdown",
   "metadata": {},
   "source": [
    "# Read Data"
   ]
  },
  {
   "cell_type": "code",
   "execution_count": 35,
   "metadata": {
    "collapsed": false
   },
   "outputs": [],
   "source": [
    "# Getting Training dataset ( Variant #1 )\n",
    "# Importing data as Dataframe\n",
    "df = pd.read_csv('../Dataset/Dataset/Training/Features_Variant_1.csv',sep=',', header=None)\n",
    "\n",
    "# Importing data as numpy array \n",
    "arr = np.genfromtxt('../Dataset/Dataset/Training/Features_Variant_1.csv', delimiter=\",\")"
   ]
  },
  {
   "cell_type": "markdown",
   "metadata": {},
   "source": [
    "# Dataset preprocessing"
   ]
  },
  {
   "cell_type": "code",
   "execution_count": 26,
   "metadata": {
    "collapsed": false
   },
   "outputs": [
    {
     "data": {
      "text/html": [
       "<div>\n",
       "<style>\n",
       "    .dataframe thead tr:only-child th {\n",
       "        text-align: right;\n",
       "    }\n",
       "\n",
       "    .dataframe thead th {\n",
       "        text-align: left;\n",
       "    }\n",
       "\n",
       "    .dataframe tbody tr th {\n",
       "        vertical-align: top;\n",
       "    }\n",
       "</style>\n",
       "<table border=\"1\" class=\"dataframe\">\n",
       "  <thead>\n",
       "    <tr style=\"text-align: right;\">\n",
       "      <th></th>\n",
       "      <th>0</th>\n",
       "      <th>1</th>\n",
       "      <th>2</th>\n",
       "      <th>3</th>\n",
       "      <th>4</th>\n",
       "      <th>5</th>\n",
       "      <th>6</th>\n",
       "      <th>7</th>\n",
       "      <th>8</th>\n",
       "      <th>9</th>\n",
       "      <th>...</th>\n",
       "      <th>44</th>\n",
       "      <th>45</th>\n",
       "      <th>46</th>\n",
       "      <th>47</th>\n",
       "      <th>48</th>\n",
       "      <th>49</th>\n",
       "      <th>50</th>\n",
       "      <th>51</th>\n",
       "      <th>52</th>\n",
       "      <th>53</th>\n",
       "    </tr>\n",
       "  </thead>\n",
       "  <tbody>\n",
       "    <tr>\n",
       "      <th>0</th>\n",
       "      <td>634995</td>\n",
       "      <td>0</td>\n",
       "      <td>463</td>\n",
       "      <td>1</td>\n",
       "      <td>0.0</td>\n",
       "      <td>806.0</td>\n",
       "      <td>11.291045</td>\n",
       "      <td>1.0</td>\n",
       "      <td>70.495138</td>\n",
       "      <td>0.0</td>\n",
       "      <td>...</td>\n",
       "      <td>0</td>\n",
       "      <td>0</td>\n",
       "      <td>0</td>\n",
       "      <td>0</td>\n",
       "      <td>0</td>\n",
       "      <td>0</td>\n",
       "      <td>0</td>\n",
       "      <td>0</td>\n",
       "      <td>1</td>\n",
       "      <td>0</td>\n",
       "    </tr>\n",
       "    <tr>\n",
       "      <th>1</th>\n",
       "      <td>634995</td>\n",
       "      <td>0</td>\n",
       "      <td>463</td>\n",
       "      <td>1</td>\n",
       "      <td>0.0</td>\n",
       "      <td>806.0</td>\n",
       "      <td>11.291045</td>\n",
       "      <td>1.0</td>\n",
       "      <td>70.495138</td>\n",
       "      <td>0.0</td>\n",
       "      <td>...</td>\n",
       "      <td>0</td>\n",
       "      <td>0</td>\n",
       "      <td>0</td>\n",
       "      <td>0</td>\n",
       "      <td>0</td>\n",
       "      <td>0</td>\n",
       "      <td>0</td>\n",
       "      <td>1</td>\n",
       "      <td>0</td>\n",
       "      <td>0</td>\n",
       "    </tr>\n",
       "    <tr>\n",
       "      <th>2</th>\n",
       "      <td>634995</td>\n",
       "      <td>0</td>\n",
       "      <td>463</td>\n",
       "      <td>1</td>\n",
       "      <td>0.0</td>\n",
       "      <td>806.0</td>\n",
       "      <td>11.291045</td>\n",
       "      <td>1.0</td>\n",
       "      <td>70.495138</td>\n",
       "      <td>0.0</td>\n",
       "      <td>...</td>\n",
       "      <td>1</td>\n",
       "      <td>0</td>\n",
       "      <td>0</td>\n",
       "      <td>0</td>\n",
       "      <td>0</td>\n",
       "      <td>0</td>\n",
       "      <td>0</td>\n",
       "      <td>0</td>\n",
       "      <td>1</td>\n",
       "      <td>0</td>\n",
       "    </tr>\n",
       "    <tr>\n",
       "      <th>3</th>\n",
       "      <td>634995</td>\n",
       "      <td>0</td>\n",
       "      <td>463</td>\n",
       "      <td>1</td>\n",
       "      <td>0.0</td>\n",
       "      <td>806.0</td>\n",
       "      <td>11.291045</td>\n",
       "      <td>1.0</td>\n",
       "      <td>70.495138</td>\n",
       "      <td>0.0</td>\n",
       "      <td>...</td>\n",
       "      <td>1</td>\n",
       "      <td>0</td>\n",
       "      <td>0</td>\n",
       "      <td>1</td>\n",
       "      <td>0</td>\n",
       "      <td>0</td>\n",
       "      <td>0</td>\n",
       "      <td>0</td>\n",
       "      <td>0</td>\n",
       "      <td>0</td>\n",
       "    </tr>\n",
       "    <tr>\n",
       "      <th>4</th>\n",
       "      <td>634995</td>\n",
       "      <td>0</td>\n",
       "      <td>463</td>\n",
       "      <td>1</td>\n",
       "      <td>0.0</td>\n",
       "      <td>806.0</td>\n",
       "      <td>11.291045</td>\n",
       "      <td>1.0</td>\n",
       "      <td>70.495138</td>\n",
       "      <td>0.0</td>\n",
       "      <td>...</td>\n",
       "      <td>0</td>\n",
       "      <td>0</td>\n",
       "      <td>0</td>\n",
       "      <td>0</td>\n",
       "      <td>0</td>\n",
       "      <td>1</td>\n",
       "      <td>0</td>\n",
       "      <td>0</td>\n",
       "      <td>0</td>\n",
       "      <td>0</td>\n",
       "    </tr>\n",
       "  </tbody>\n",
       "</table>\n",
       "<p>5 rows × 54 columns</p>\n",
       "</div>"
      ],
      "text/plain": [
       "       0   1    2   3    4      5          6    7          8    9  ...  44  \\\n",
       "0  634995   0  463   1  0.0  806.0  11.291045  1.0  70.495138  0.0 ...   0   \n",
       "1  634995   0  463   1  0.0  806.0  11.291045  1.0  70.495138  0.0 ...   0   \n",
       "2  634995   0  463   1  0.0  806.0  11.291045  1.0  70.495138  0.0 ...   1   \n",
       "3  634995   0  463   1  0.0  806.0  11.291045  1.0  70.495138  0.0 ...   1   \n",
       "4  634995   0  463   1  0.0  806.0  11.291045  1.0  70.495138  0.0 ...   0   \n",
       "\n",
       "   45  46  47  48  49  50  51  52  53  \n",
       "0   0   0   0   0   0   0   0   1   0  \n",
       "1   0   0   0   0   0   0   1   0   0  \n",
       "2   0   0   0   0   0   0   0   1   0  \n",
       "3   0   0   1   0   0   0   0   0   0  \n",
       "4   0   0   0   0   1   0   0   0   0  \n",
       "\n",
       "[5 rows x 54 columns]"
      ]
     },
     "execution_count": 26,
     "metadata": {},
     "output_type": "execute_result"
    }
   ],
   "source": [
    "# Getting first 5 training data in dataset\n",
    "df.head(5)"
   ]
  },
  {
   "cell_type": "code",
   "execution_count": 27,
   "metadata": {
    "collapsed": false
   },
   "outputs": [
    {
     "data": {
      "text/plain": [
       "array([  6.34995000e+05,   0.00000000e+00,   4.63000000e+02,\n",
       "         1.00000000e+00,   0.00000000e+00,   8.06000000e+02,\n",
       "         1.12910448e+01,   1.00000000e+00,   7.04951385e+01,\n",
       "         0.00000000e+00,   8.06000000e+02,   7.57462687e+00,\n",
       "         0.00000000e+00,   6.94358264e+01,   0.00000000e+00,\n",
       "         7.60000000e+01,   2.60447761e+00,   0.00000000e+00,\n",
       "         8.50550187e+00,   0.00000000e+00,   8.06000000e+02,\n",
       "         1.06492537e+01,   1.00000000e+00,   7.02547876e+01,\n",
       "        -6.90000000e+01,   8.06000000e+02,   4.97014925e+00,\n",
       "         0.00000000e+00,   6.98505804e+01,   0.00000000e+00,\n",
       "         0.00000000e+00,   0.00000000e+00,   0.00000000e+00,\n",
       "         0.00000000e+00,   6.50000000e+01,   1.66000000e+02,\n",
       "         2.00000000e+00,   0.00000000e+00,   2.40000000e+01,\n",
       "         0.00000000e+00,   0.00000000e+00,   0.00000000e+00,\n",
       "         1.00000000e+00,   0.00000000e+00,   0.00000000e+00,\n",
       "         0.00000000e+00,   0.00000000e+00,   0.00000000e+00,\n",
       "         0.00000000e+00,   0.00000000e+00,   0.00000000e+00,\n",
       "         0.00000000e+00,   1.00000000e+00,   0.00000000e+00])"
      ]
     },
     "execution_count": 27,
     "metadata": {},
     "output_type": "execute_result"
    }
   ],
   "source": [
    "# example of numpy \"arr\" numpy array\n",
    "arr[0]"
   ]
  },
  {
   "cell_type": "code",
   "execution_count": 39,
   "metadata": {
    "collapsed": false
   },
   "outputs": [
    {
     "name": "stdout",
     "output_type": "stream",
     "text": [
      "<class 'pandas.core.frame.DataFrame'>\n",
      "RangeIndex: 40949 entries, 0 to 40948\n",
      "Data columns (total 54 columns):\n",
      "0     40949 non-null int64\n",
      "1     40949 non-null int64\n",
      "2     40949 non-null int64\n",
      "3     40949 non-null int64\n",
      "4     40949 non-null float64\n",
      "5     40949 non-null float64\n",
      "6     40949 non-null float64\n",
      "7     40949 non-null float64\n",
      "8     40949 non-null float64\n",
      "9     40949 non-null float64\n",
      "10    40949 non-null float64\n",
      "11    40949 non-null float64\n",
      "12    40949 non-null float64\n",
      "13    40949 non-null float64\n",
      "14    40949 non-null float64\n",
      "15    40949 non-null float64\n",
      "16    40949 non-null float64\n",
      "17    40949 non-null float64\n",
      "18    40949 non-null float64\n",
      "19    40949 non-null float64\n",
      "20    40949 non-null float64\n",
      "21    40949 non-null float64\n",
      "22    40949 non-null float64\n",
      "23    40949 non-null float64\n",
      "24    40949 non-null float64\n",
      "25    40949 non-null float64\n",
      "26    40949 non-null float64\n",
      "27    40949 non-null float64\n",
      "28    40949 non-null float64\n",
      "29    40949 non-null int64\n",
      "30    40949 non-null int64\n",
      "31    40949 non-null int64\n",
      "32    40949 non-null int64\n",
      "33    40949 non-null int64\n",
      "34    40949 non-null int64\n",
      "35    40949 non-null int64\n",
      "36    40949 non-null int64\n",
      "37    40949 non-null int64\n",
      "38    40949 non-null int64\n",
      "39    40949 non-null int64\n",
      "40    40949 non-null int64\n",
      "41    40949 non-null int64\n",
      "42    40949 non-null int64\n",
      "43    40949 non-null int64\n",
      "44    40949 non-null int64\n",
      "45    40949 non-null int64\n",
      "46    40949 non-null int64\n",
      "47    40949 non-null int64\n",
      "48    40949 non-null int64\n",
      "49    40949 non-null int64\n",
      "50    40949 non-null int64\n",
      "51    40949 non-null int64\n",
      "52    40949 non-null int64\n",
      "53    40949 non-null int64\n",
      "dtypes: float64(25), int64(29)\n",
      "memory usage: 16.9 MB\n"
     ]
    }
   ],
   "source": [
    "# Disovering more information about dataset\n",
    "df.info()"
   ]
  },
  {
   "cell_type": "code",
   "execution_count": 43,
   "metadata": {
    "collapsed": false
   },
   "outputs": [],
   "source": [
    "# Plotting Data\n",
    "# Getting unique values of Coulmn 39\n",
    "# Getting Better intituion about target column\n",
    "# Plotting Histogram, ..."
   ]
  },
  {
   "cell_type": "code",
   "execution_count": 47,
   "metadata": {
    "collapsed": false
   },
   "outputs": [
    {
     "data": {
      "text/plain": [
       "array([  1.,   2.,   3.,   4.,   5.,   6.,   7.,   8.,   9.,  10.,  11.,\n",
       "        12.,  13.,  14.,  15.,  16.,  17.,  18.,  19.,  20.,  21.,  22.,\n",
       "        23.,  24.])"
      ]
     },
     "execution_count": 47,
     "metadata": {},
     "output_type": "execute_result"
    }
   ],
   "source": [
    "# Getting unique values of \"H Local\" Feature\n",
    "np.unique(arr[:,38])"
   ]
  },
  {
   "cell_type": "code",
   "execution_count": null,
   "metadata": {
    "collapsed": false
   },
   "outputs": [],
   "source": [
    "# Plot \"Number Of likes\" vs \"Target\" Features\n",
    "sns.pairplot(df)"
   ]
  },
  {
   "cell_type": "code",
   "execution_count": null,
   "metadata": {
    "collapsed": true
   },
   "outputs": [],
   "source": []
  }
 ],
 "metadata": {
  "kernelspec": {
   "display_name": "Python 3",
   "language": "python",
   "name": "python3"
  },
  "language_info": {
   "codemirror_mode": {
    "name": "ipython",
    "version": 3
   },
   "file_extension": ".py",
   "mimetype": "text/x-python",
   "name": "python",
   "nbconvert_exporter": "python",
   "pygments_lexer": "ipython3",
   "version": "3.6.0"
  }
 },
 "nbformat": 4,
 "nbformat_minor": 2
}
