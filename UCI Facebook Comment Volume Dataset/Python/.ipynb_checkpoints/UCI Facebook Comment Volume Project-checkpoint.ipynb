{
 "cells": [
  {
   "cell_type": "markdown",
   "metadata": {},
   "source": [
    "# Import important files"
   ]
  },
  {
   "cell_type": "code",
   "execution_count": 31,
   "metadata": {
    "collapsed": false
   },
   "outputs": [],
   "source": [
    "import matplotlib.pyplot as plt\n",
    "import numpy as np\n",
    "import seaborn as sns\n",
    "import pandas as pd"
   ]
  },
  {
   "cell_type": "code",
   "execution_count": 32,
   "metadata": {
    "collapsed": true
   },
   "outputs": [],
   "source": [
    "# Showing matplotlib plots in jupyter notebook\n",
    "%matplotlib inline"
   ]
  },
  {
   "cell_type": "markdown",
   "metadata": {},
   "source": [
    "# Read Data"
   ]
  },
  {
   "cell_type": "code",
   "execution_count": 144,
   "metadata": {
    "collapsed": false
   },
   "outputs": [],
   "source": [
    "# Getting Training dataset ( Variant #1 )\n",
    "# Importing data as Dataframe\n",
    "df = pd.read_csv('../Dataset/Dataset/Training/Features_Variant_1.csv',sep=',', header=None)\n",
    "\n",
    "# Importing data as numpy array \n",
    "X = np.genfromtxt('../Dataset/Dataset/Training/Features_Variant_1.csv', delimiter=\",\")"
   ]
  },
  {
   "cell_type": "code",
   "execution_count": 147,
   "metadata": {
    "collapsed": false
   },
   "outputs": [],
   "source": [
    "y = X[:,53]"
   ]
  },
  {
   "cell_type": "markdown",
   "metadata": {},
   "source": [
    "# Functions Section"
   ]
  },
  {
   "cell_type": "code",
   "execution_count": 148,
   "metadata": {
    "collapsed": true
   },
   "outputs": [],
   "source": [
    "def matrixToNumber(df):\n",
    "    \n",
    "    # Checking df type that whether is Dataframe or not!\n",
    "    if ( type(df) == pd.core.frame.DataFrame ):\n",
    "        df_temp = np.ones((df.shape[0],1), dtype='int')\n",
    "\n",
    "    # Converting df to Dataframe if df is Array or Series\n",
    "    elif ( type(df) == numpy.ndarray or type(df) == pd.core.frame.Series ):\n",
    "        df = pd.DataFrame(df)\n",
    "        df_temp = np.ones((df.shape[0],1), dtype='int')\n",
    "        \n",
    "    else:\n",
    "        return \"Function expect Dataframe\"\n",
    "    \n",
    "    # Making columns labels to start from 0\n",
    "    df.columns = df.columns - df.columns[0]\n",
    "        \n",
    "    # Finding day of week post had published\n",
    "    for a in df.columns:\n",
    "        df_temp[df[a] == 1] = int(df.shape[1]) - int(a) - 1\n",
    "    \n",
    "    # returning numpy array for easier later uses\n",
    "    return np.array(df_temp).T[0]\n",
    "\n",
    "# Drop column with integer label\n",
    "def drop_int(df, val):\n",
    "    \n",
    "    # Checking df type that whether is Dataframe or not!\n",
    "    if ( type(df) == pd.core.frame.DataFrame ):\n",
    "        df = df.T.drop(val,axis=0).T\n",
    "        df.rename(columns=(lambda x: ( x - 1 if x > val else x)),inplace=True)\n",
    "        \n",
    "        return df\n",
    "    else:\n",
    "        return \"Function expect Dataframe\""
   ]
  },
  {
   "cell_type": "code",
   "execution_count": 149,
   "metadata": {
    "collapsed": false
   },
   "outputs": [
    {
     "data": {
      "text/plain": [
       "numpy.ndarray"
      ]
     },
     "execution_count": 149,
     "metadata": {},
     "output_type": "execute_result"
    }
   ],
   "source": [
    "a = np.ones((12))\n",
    "type(a)"
   ]
  },
  {
   "cell_type": "markdown",
   "metadata": {},
   "source": [
    "# Dataset Analysis"
   ]
  },
  {
   "cell_type": "code",
   "execution_count": 150,
   "metadata": {
    "collapsed": false
   },
   "outputs": [
    {
     "data": {
      "text/html": [
       "<div>\n",
       "<style>\n",
       "    .dataframe thead tr:only-child th {\n",
       "        text-align: right;\n",
       "    }\n",
       "\n",
       "    .dataframe thead th {\n",
       "        text-align: left;\n",
       "    }\n",
       "\n",
       "    .dataframe tbody tr th {\n",
       "        vertical-align: top;\n",
       "    }\n",
       "</style>\n",
       "<table border=\"1\" class=\"dataframe\">\n",
       "  <thead>\n",
       "    <tr style=\"text-align: right;\">\n",
       "      <th></th>\n",
       "      <th>0</th>\n",
       "      <th>1</th>\n",
       "      <th>2</th>\n",
       "      <th>3</th>\n",
       "      <th>4</th>\n",
       "      <th>5</th>\n",
       "      <th>6</th>\n",
       "      <th>7</th>\n",
       "      <th>8</th>\n",
       "      <th>9</th>\n",
       "      <th>...</th>\n",
       "      <th>44</th>\n",
       "      <th>45</th>\n",
       "      <th>46</th>\n",
       "      <th>47</th>\n",
       "      <th>48</th>\n",
       "      <th>49</th>\n",
       "      <th>50</th>\n",
       "      <th>51</th>\n",
       "      <th>52</th>\n",
       "      <th>53</th>\n",
       "    </tr>\n",
       "  </thead>\n",
       "  <tbody>\n",
       "    <tr>\n",
       "      <th>0</th>\n",
       "      <td>634995</td>\n",
       "      <td>0</td>\n",
       "      <td>463</td>\n",
       "      <td>1</td>\n",
       "      <td>0.0</td>\n",
       "      <td>806.0</td>\n",
       "      <td>11.291045</td>\n",
       "      <td>1.0</td>\n",
       "      <td>70.495138</td>\n",
       "      <td>0.0</td>\n",
       "      <td>...</td>\n",
       "      <td>0</td>\n",
       "      <td>0</td>\n",
       "      <td>0</td>\n",
       "      <td>0</td>\n",
       "      <td>0</td>\n",
       "      <td>0</td>\n",
       "      <td>0</td>\n",
       "      <td>0</td>\n",
       "      <td>1</td>\n",
       "      <td>0</td>\n",
       "    </tr>\n",
       "    <tr>\n",
       "      <th>1</th>\n",
       "      <td>634995</td>\n",
       "      <td>0</td>\n",
       "      <td>463</td>\n",
       "      <td>1</td>\n",
       "      <td>0.0</td>\n",
       "      <td>806.0</td>\n",
       "      <td>11.291045</td>\n",
       "      <td>1.0</td>\n",
       "      <td>70.495138</td>\n",
       "      <td>0.0</td>\n",
       "      <td>...</td>\n",
       "      <td>0</td>\n",
       "      <td>0</td>\n",
       "      <td>0</td>\n",
       "      <td>0</td>\n",
       "      <td>0</td>\n",
       "      <td>0</td>\n",
       "      <td>0</td>\n",
       "      <td>1</td>\n",
       "      <td>0</td>\n",
       "      <td>0</td>\n",
       "    </tr>\n",
       "    <tr>\n",
       "      <th>2</th>\n",
       "      <td>634995</td>\n",
       "      <td>0</td>\n",
       "      <td>463</td>\n",
       "      <td>1</td>\n",
       "      <td>0.0</td>\n",
       "      <td>806.0</td>\n",
       "      <td>11.291045</td>\n",
       "      <td>1.0</td>\n",
       "      <td>70.495138</td>\n",
       "      <td>0.0</td>\n",
       "      <td>...</td>\n",
       "      <td>1</td>\n",
       "      <td>0</td>\n",
       "      <td>0</td>\n",
       "      <td>0</td>\n",
       "      <td>0</td>\n",
       "      <td>0</td>\n",
       "      <td>0</td>\n",
       "      <td>0</td>\n",
       "      <td>1</td>\n",
       "      <td>0</td>\n",
       "    </tr>\n",
       "    <tr>\n",
       "      <th>3</th>\n",
       "      <td>634995</td>\n",
       "      <td>0</td>\n",
       "      <td>463</td>\n",
       "      <td>1</td>\n",
       "      <td>0.0</td>\n",
       "      <td>806.0</td>\n",
       "      <td>11.291045</td>\n",
       "      <td>1.0</td>\n",
       "      <td>70.495138</td>\n",
       "      <td>0.0</td>\n",
       "      <td>...</td>\n",
       "      <td>1</td>\n",
       "      <td>0</td>\n",
       "      <td>0</td>\n",
       "      <td>1</td>\n",
       "      <td>0</td>\n",
       "      <td>0</td>\n",
       "      <td>0</td>\n",
       "      <td>0</td>\n",
       "      <td>0</td>\n",
       "      <td>0</td>\n",
       "    </tr>\n",
       "    <tr>\n",
       "      <th>4</th>\n",
       "      <td>634995</td>\n",
       "      <td>0</td>\n",
       "      <td>463</td>\n",
       "      <td>1</td>\n",
       "      <td>0.0</td>\n",
       "      <td>806.0</td>\n",
       "      <td>11.291045</td>\n",
       "      <td>1.0</td>\n",
       "      <td>70.495138</td>\n",
       "      <td>0.0</td>\n",
       "      <td>...</td>\n",
       "      <td>0</td>\n",
       "      <td>0</td>\n",
       "      <td>0</td>\n",
       "      <td>0</td>\n",
       "      <td>0</td>\n",
       "      <td>1</td>\n",
       "      <td>0</td>\n",
       "      <td>0</td>\n",
       "      <td>0</td>\n",
       "      <td>0</td>\n",
       "    </tr>\n",
       "    <tr>\n",
       "      <th>5</th>\n",
       "      <td>634995</td>\n",
       "      <td>0</td>\n",
       "      <td>463</td>\n",
       "      <td>1</td>\n",
       "      <td>0.0</td>\n",
       "      <td>806.0</td>\n",
       "      <td>11.291045</td>\n",
       "      <td>1.0</td>\n",
       "      <td>70.495138</td>\n",
       "      <td>0.0</td>\n",
       "      <td>...</td>\n",
       "      <td>0</td>\n",
       "      <td>0</td>\n",
       "      <td>0</td>\n",
       "      <td>0</td>\n",
       "      <td>0</td>\n",
       "      <td>0</td>\n",
       "      <td>0</td>\n",
       "      <td>1</td>\n",
       "      <td>0</td>\n",
       "      <td>0</td>\n",
       "    </tr>\n",
       "    <tr>\n",
       "      <th>6</th>\n",
       "      <td>634995</td>\n",
       "      <td>0</td>\n",
       "      <td>463</td>\n",
       "      <td>1</td>\n",
       "      <td>0.0</td>\n",
       "      <td>806.0</td>\n",
       "      <td>11.291045</td>\n",
       "      <td>1.0</td>\n",
       "      <td>70.495138</td>\n",
       "      <td>0.0</td>\n",
       "      <td>...</td>\n",
       "      <td>0</td>\n",
       "      <td>0</td>\n",
       "      <td>0</td>\n",
       "      <td>0</td>\n",
       "      <td>0</td>\n",
       "      <td>0</td>\n",
       "      <td>0</td>\n",
       "      <td>0</td>\n",
       "      <td>1</td>\n",
       "      <td>0</td>\n",
       "    </tr>\n",
       "    <tr>\n",
       "      <th>7</th>\n",
       "      <td>634995</td>\n",
       "      <td>0</td>\n",
       "      <td>463</td>\n",
       "      <td>1</td>\n",
       "      <td>0.0</td>\n",
       "      <td>806.0</td>\n",
       "      <td>11.291045</td>\n",
       "      <td>1.0</td>\n",
       "      <td>70.495138</td>\n",
       "      <td>0.0</td>\n",
       "      <td>...</td>\n",
       "      <td>0</td>\n",
       "      <td>0</td>\n",
       "      <td>0</td>\n",
       "      <td>0</td>\n",
       "      <td>0</td>\n",
       "      <td>0</td>\n",
       "      <td>0</td>\n",
       "      <td>0</td>\n",
       "      <td>1</td>\n",
       "      <td>0</td>\n",
       "    </tr>\n",
       "    <tr>\n",
       "      <th>8</th>\n",
       "      <td>634995</td>\n",
       "      <td>0</td>\n",
       "      <td>463</td>\n",
       "      <td>1</td>\n",
       "      <td>0.0</td>\n",
       "      <td>806.0</td>\n",
       "      <td>11.291045</td>\n",
       "      <td>1.0</td>\n",
       "      <td>70.495138</td>\n",
       "      <td>0.0</td>\n",
       "      <td>...</td>\n",
       "      <td>1</td>\n",
       "      <td>0</td>\n",
       "      <td>0</td>\n",
       "      <td>0</td>\n",
       "      <td>0</td>\n",
       "      <td>0</td>\n",
       "      <td>0</td>\n",
       "      <td>0</td>\n",
       "      <td>1</td>\n",
       "      <td>0</td>\n",
       "    </tr>\n",
       "    <tr>\n",
       "      <th>9</th>\n",
       "      <td>634995</td>\n",
       "      <td>0</td>\n",
       "      <td>463</td>\n",
       "      <td>1</td>\n",
       "      <td>0.0</td>\n",
       "      <td>806.0</td>\n",
       "      <td>11.291045</td>\n",
       "      <td>1.0</td>\n",
       "      <td>70.495138</td>\n",
       "      <td>0.0</td>\n",
       "      <td>...</td>\n",
       "      <td>1</td>\n",
       "      <td>0</td>\n",
       "      <td>1</td>\n",
       "      <td>0</td>\n",
       "      <td>0</td>\n",
       "      <td>0</td>\n",
       "      <td>0</td>\n",
       "      <td>0</td>\n",
       "      <td>0</td>\n",
       "      <td>0</td>\n",
       "    </tr>\n",
       "  </tbody>\n",
       "</table>\n",
       "<p>10 rows × 54 columns</p>\n",
       "</div>"
      ],
      "text/plain": [
       "       0   1    2   3    4      5          6    7          8    9  ...  44  \\\n",
       "0  634995   0  463   1  0.0  806.0  11.291045  1.0  70.495138  0.0 ...   0   \n",
       "1  634995   0  463   1  0.0  806.0  11.291045  1.0  70.495138  0.0 ...   0   \n",
       "2  634995   0  463   1  0.0  806.0  11.291045  1.0  70.495138  0.0 ...   1   \n",
       "3  634995   0  463   1  0.0  806.0  11.291045  1.0  70.495138  0.0 ...   1   \n",
       "4  634995   0  463   1  0.0  806.0  11.291045  1.0  70.495138  0.0 ...   0   \n",
       "5  634995   0  463   1  0.0  806.0  11.291045  1.0  70.495138  0.0 ...   0   \n",
       "6  634995   0  463   1  0.0  806.0  11.291045  1.0  70.495138  0.0 ...   0   \n",
       "7  634995   0  463   1  0.0  806.0  11.291045  1.0  70.495138  0.0 ...   0   \n",
       "8  634995   0  463   1  0.0  806.0  11.291045  1.0  70.495138  0.0 ...   1   \n",
       "9  634995   0  463   1  0.0  806.0  11.291045  1.0  70.495138  0.0 ...   1   \n",
       "\n",
       "   45  46  47  48  49  50  51  52  53  \n",
       "0   0   0   0   0   0   0   0   1   0  \n",
       "1   0   0   0   0   0   0   1   0   0  \n",
       "2   0   0   0   0   0   0   0   1   0  \n",
       "3   0   0   1   0   0   0   0   0   0  \n",
       "4   0   0   0   0   1   0   0   0   0  \n",
       "5   0   0   0   0   0   0   1   0   0  \n",
       "6   0   0   0   0   0   0   0   1   0  \n",
       "7   0   0   0   0   0   0   0   1   0  \n",
       "8   0   0   0   0   0   0   0   1   0  \n",
       "9   0   1   0   0   0   0   0   0   0  \n",
       "\n",
       "[10 rows x 54 columns]"
      ]
     },
     "execution_count": 150,
     "metadata": {},
     "output_type": "execute_result"
    }
   ],
   "source": [
    "# Getting first 5 training data in dataset\n",
    "df.head(10)"
   ]
  },
  {
   "cell_type": "code",
   "execution_count": 151,
   "metadata": {
    "collapsed": false
   },
   "outputs": [
    {
     "data": {
      "text/plain": [
       "array([  6.34995000e+05,   0.00000000e+00,   4.63000000e+02,\n",
       "         1.00000000e+00,   0.00000000e+00,   8.06000000e+02,\n",
       "         1.12910448e+01,   1.00000000e+00,   7.04951385e+01,\n",
       "         0.00000000e+00,   8.06000000e+02,   7.57462687e+00,\n",
       "         0.00000000e+00,   6.94358264e+01,   0.00000000e+00,\n",
       "         7.60000000e+01,   2.60447761e+00,   0.00000000e+00,\n",
       "         8.50550187e+00,   0.00000000e+00,   8.06000000e+02,\n",
       "         1.06492537e+01,   1.00000000e+00,   7.02547876e+01,\n",
       "        -6.90000000e+01,   8.06000000e+02,   4.97014925e+00,\n",
       "         0.00000000e+00,   6.98505804e+01,   0.00000000e+00,\n",
       "         0.00000000e+00,   0.00000000e+00,   0.00000000e+00,\n",
       "         0.00000000e+00,   6.50000000e+01,   1.66000000e+02,\n",
       "         2.00000000e+00,   0.00000000e+00,   2.40000000e+01,\n",
       "         0.00000000e+00,   0.00000000e+00,   0.00000000e+00,\n",
       "         1.00000000e+00,   0.00000000e+00,   0.00000000e+00,\n",
       "         0.00000000e+00,   0.00000000e+00,   0.00000000e+00,\n",
       "         0.00000000e+00,   0.00000000e+00,   0.00000000e+00,\n",
       "         0.00000000e+00,   1.00000000e+00,   0.00000000e+00])"
      ]
     },
     "execution_count": 151,
     "metadata": {},
     "output_type": "execute_result"
    }
   ],
   "source": [
    "# example of numpy \"arr\" numpy array\n",
    "X[0]"
   ]
  },
  {
   "cell_type": "code",
   "execution_count": 152,
   "metadata": {
    "collapsed": false
   },
   "outputs": [
    {
     "name": "stdout",
     "output_type": "stream",
     "text": [
      "<class 'pandas.core.frame.DataFrame'>\n",
      "RangeIndex: 40949 entries, 0 to 40948\n",
      "Data columns (total 54 columns):\n",
      "0     40949 non-null int64\n",
      "1     40949 non-null int64\n",
      "2     40949 non-null int64\n",
      "3     40949 non-null int64\n",
      "4     40949 non-null float64\n",
      "5     40949 non-null float64\n",
      "6     40949 non-null float64\n",
      "7     40949 non-null float64\n",
      "8     40949 non-null float64\n",
      "9     40949 non-null float64\n",
      "10    40949 non-null float64\n",
      "11    40949 non-null float64\n",
      "12    40949 non-null float64\n",
      "13    40949 non-null float64\n",
      "14    40949 non-null float64\n",
      "15    40949 non-null float64\n",
      "16    40949 non-null float64\n",
      "17    40949 non-null float64\n",
      "18    40949 non-null float64\n",
      "19    40949 non-null float64\n",
      "20    40949 non-null float64\n",
      "21    40949 non-null float64\n",
      "22    40949 non-null float64\n",
      "23    40949 non-null float64\n",
      "24    40949 non-null float64\n",
      "25    40949 non-null float64\n",
      "26    40949 non-null float64\n",
      "27    40949 non-null float64\n",
      "28    40949 non-null float64\n",
      "29    40949 non-null int64\n",
      "30    40949 non-null int64\n",
      "31    40949 non-null int64\n",
      "32    40949 non-null int64\n",
      "33    40949 non-null int64\n",
      "34    40949 non-null int64\n",
      "35    40949 non-null int64\n",
      "36    40949 non-null int64\n",
      "37    40949 non-null int64\n",
      "38    40949 non-null int64\n",
      "39    40949 non-null int64\n",
      "40    40949 non-null int64\n",
      "41    40949 non-null int64\n",
      "42    40949 non-null int64\n",
      "43    40949 non-null int64\n",
      "44    40949 non-null int64\n",
      "45    40949 non-null int64\n",
      "46    40949 non-null int64\n",
      "47    40949 non-null int64\n",
      "48    40949 non-null int64\n",
      "49    40949 non-null int64\n",
      "50    40949 non-null int64\n",
      "51    40949 non-null int64\n",
      "52    40949 non-null int64\n",
      "53    40949 non-null int64\n",
      "dtypes: float64(25), int64(29)\n",
      "memory usage: 16.9 MB\n"
     ]
    }
   ],
   "source": [
    "# Disovering more information about dataset\n",
    "df.info()"
   ]
  },
  {
   "cell_type": "code",
   "execution_count": 153,
   "metadata": {
    "collapsed": false
   },
   "outputs": [
    {
     "data": {
      "text/html": [
       "<div>\n",
       "<style>\n",
       "    .dataframe thead tr:only-child th {\n",
       "        text-align: right;\n",
       "    }\n",
       "\n",
       "    .dataframe thead th {\n",
       "        text-align: left;\n",
       "    }\n",
       "\n",
       "    .dataframe tbody tr th {\n",
       "        vertical-align: top;\n",
       "    }\n",
       "</style>\n",
       "<table border=\"1\" class=\"dataframe\">\n",
       "  <thead>\n",
       "    <tr style=\"text-align: right;\">\n",
       "      <th></th>\n",
       "      <th>0</th>\n",
       "      <th>1</th>\n",
       "      <th>2</th>\n",
       "      <th>3</th>\n",
       "      <th>4</th>\n",
       "      <th>5</th>\n",
       "      <th>6</th>\n",
       "      <th>7</th>\n",
       "      <th>8</th>\n",
       "      <th>9</th>\n",
       "      <th>...</th>\n",
       "      <th>44</th>\n",
       "      <th>45</th>\n",
       "      <th>46</th>\n",
       "      <th>47</th>\n",
       "      <th>48</th>\n",
       "      <th>49</th>\n",
       "      <th>50</th>\n",
       "      <th>51</th>\n",
       "      <th>52</th>\n",
       "      <th>53</th>\n",
       "    </tr>\n",
       "  </thead>\n",
       "  <tbody>\n",
       "    <tr>\n",
       "      <th>count</th>\n",
       "      <td>4.094900e+04</td>\n",
       "      <td>40949.000000</td>\n",
       "      <td>4.094900e+04</td>\n",
       "      <td>40949.000000</td>\n",
       "      <td>40949.000000</td>\n",
       "      <td>40949.000000</td>\n",
       "      <td>40949.000000</td>\n",
       "      <td>40949.000000</td>\n",
       "      <td>40949.000000</td>\n",
       "      <td>40949.000000</td>\n",
       "      <td>...</td>\n",
       "      <td>40949.000000</td>\n",
       "      <td>40949.000000</td>\n",
       "      <td>40949.000000</td>\n",
       "      <td>40949.000000</td>\n",
       "      <td>40949.000000</td>\n",
       "      <td>40949.000000</td>\n",
       "      <td>40949.000000</td>\n",
       "      <td>40949.000000</td>\n",
       "      <td>40949.000000</td>\n",
       "      <td>40949.000000</td>\n",
       "    </tr>\n",
       "    <tr>\n",
       "      <th>mean</th>\n",
       "      <td>1.313814e+06</td>\n",
       "      <td>4676.133752</td>\n",
       "      <td>4.480025e+04</td>\n",
       "      <td>24.254780</td>\n",
       "      <td>1.586241</td>\n",
       "      <td>443.333854</td>\n",
       "      <td>55.720384</td>\n",
       "      <td>35.645535</td>\n",
       "      <td>67.464151</td>\n",
       "      <td>0.219468</td>\n",
       "      <td>...</td>\n",
       "      <td>0.146157</td>\n",
       "      <td>0.136926</td>\n",
       "      <td>0.141640</td>\n",
       "      <td>0.132506</td>\n",
       "      <td>0.137635</td>\n",
       "      <td>0.148599</td>\n",
       "      <td>0.150846</td>\n",
       "      <td>0.143886</td>\n",
       "      <td>0.144888</td>\n",
       "      <td>7.322889</td>\n",
       "    </tr>\n",
       "    <tr>\n",
       "      <th>std</th>\n",
       "      <td>6.785752e+06</td>\n",
       "      <td>20593.184863</td>\n",
       "      <td>1.109338e+05</td>\n",
       "      <td>19.950583</td>\n",
       "      <td>20.753174</td>\n",
       "      <td>496.695198</td>\n",
       "      <td>86.933548</td>\n",
       "      <td>69.960232</td>\n",
       "      <td>81.568249</td>\n",
       "      <td>10.055146</td>\n",
       "      <td>...</td>\n",
       "      <td>0.353268</td>\n",
       "      <td>0.343774</td>\n",
       "      <td>0.348684</td>\n",
       "      <td>0.339045</td>\n",
       "      <td>0.344520</td>\n",
       "      <td>0.355698</td>\n",
       "      <td>0.357903</td>\n",
       "      <td>0.350979</td>\n",
       "      <td>0.351992</td>\n",
       "      <td>35.494550</td>\n",
       "    </tr>\n",
       "    <tr>\n",
       "      <th>min</th>\n",
       "      <td>3.600000e+01</td>\n",
       "      <td>0.000000</td>\n",
       "      <td>0.000000e+00</td>\n",
       "      <td>1.000000</td>\n",
       "      <td>0.000000</td>\n",
       "      <td>0.000000</td>\n",
       "      <td>0.000000</td>\n",
       "      <td>0.000000</td>\n",
       "      <td>0.000000</td>\n",
       "      <td>0.000000</td>\n",
       "      <td>...</td>\n",
       "      <td>0.000000</td>\n",
       "      <td>0.000000</td>\n",
       "      <td>0.000000</td>\n",
       "      <td>0.000000</td>\n",
       "      <td>0.000000</td>\n",
       "      <td>0.000000</td>\n",
       "      <td>0.000000</td>\n",
       "      <td>0.000000</td>\n",
       "      <td>0.000000</td>\n",
       "      <td>0.000000</td>\n",
       "    </tr>\n",
       "    <tr>\n",
       "      <th>25%</th>\n",
       "      <td>3.673400e+04</td>\n",
       "      <td>0.000000</td>\n",
       "      <td>6.980000e+02</td>\n",
       "      <td>9.000000</td>\n",
       "      <td>0.000000</td>\n",
       "      <td>45.000000</td>\n",
       "      <td>5.527273</td>\n",
       "      <td>2.000000</td>\n",
       "      <td>8.278756</td>\n",
       "      <td>0.000000</td>\n",
       "      <td>...</td>\n",
       "      <td>0.000000</td>\n",
       "      <td>0.000000</td>\n",
       "      <td>0.000000</td>\n",
       "      <td>0.000000</td>\n",
       "      <td>0.000000</td>\n",
       "      <td>0.000000</td>\n",
       "      <td>0.000000</td>\n",
       "      <td>0.000000</td>\n",
       "      <td>0.000000</td>\n",
       "      <td>0.000000</td>\n",
       "    </tr>\n",
       "    <tr>\n",
       "      <th>50%</th>\n",
       "      <td>2.929110e+05</td>\n",
       "      <td>0.000000</td>\n",
       "      <td>7.045000e+03</td>\n",
       "      <td>18.000000</td>\n",
       "      <td>0.000000</td>\n",
       "      <td>241.000000</td>\n",
       "      <td>23.374101</td>\n",
       "      <td>12.000000</td>\n",
       "      <td>35.069140</td>\n",
       "      <td>0.000000</td>\n",
       "      <td>...</td>\n",
       "      <td>0.000000</td>\n",
       "      <td>0.000000</td>\n",
       "      <td>0.000000</td>\n",
       "      <td>0.000000</td>\n",
       "      <td>0.000000</td>\n",
       "      <td>0.000000</td>\n",
       "      <td>0.000000</td>\n",
       "      <td>0.000000</td>\n",
       "      <td>0.000000</td>\n",
       "      <td>0.000000</td>\n",
       "    </tr>\n",
       "    <tr>\n",
       "      <th>75%</th>\n",
       "      <td>1.204214e+06</td>\n",
       "      <td>99.000000</td>\n",
       "      <td>5.026400e+04</td>\n",
       "      <td>32.000000</td>\n",
       "      <td>0.000000</td>\n",
       "      <td>717.000000</td>\n",
       "      <td>71.828829</td>\n",
       "      <td>42.000000</td>\n",
       "      <td>102.554954</td>\n",
       "      <td>0.000000</td>\n",
       "      <td>...</td>\n",
       "      <td>0.000000</td>\n",
       "      <td>0.000000</td>\n",
       "      <td>0.000000</td>\n",
       "      <td>0.000000</td>\n",
       "      <td>0.000000</td>\n",
       "      <td>0.000000</td>\n",
       "      <td>0.000000</td>\n",
       "      <td>0.000000</td>\n",
       "      <td>0.000000</td>\n",
       "      <td>3.000000</td>\n",
       "    </tr>\n",
       "    <tr>\n",
       "      <th>max</th>\n",
       "      <td>4.869723e+08</td>\n",
       "      <td>186370.000000</td>\n",
       "      <td>6.089942e+06</td>\n",
       "      <td>106.000000</td>\n",
       "      <td>2341.000000</td>\n",
       "      <td>2341.000000</td>\n",
       "      <td>2341.000000</td>\n",
       "      <td>2341.000000</td>\n",
       "      <td>731.394558</td>\n",
       "      <td>1923.000000</td>\n",
       "      <td>...</td>\n",
       "      <td>1.000000</td>\n",
       "      <td>1.000000</td>\n",
       "      <td>1.000000</td>\n",
       "      <td>1.000000</td>\n",
       "      <td>1.000000</td>\n",
       "      <td>1.000000</td>\n",
       "      <td>1.000000</td>\n",
       "      <td>1.000000</td>\n",
       "      <td>1.000000</td>\n",
       "      <td>1305.000000</td>\n",
       "    </tr>\n",
       "  </tbody>\n",
       "</table>\n",
       "<p>8 rows × 54 columns</p>\n",
       "</div>"
      ],
      "text/plain": [
       "                 0              1             2             3             4   \\\n",
       "count  4.094900e+04   40949.000000  4.094900e+04  40949.000000  40949.000000   \n",
       "mean   1.313814e+06    4676.133752  4.480025e+04     24.254780      1.586241   \n",
       "std    6.785752e+06   20593.184863  1.109338e+05     19.950583     20.753174   \n",
       "min    3.600000e+01       0.000000  0.000000e+00      1.000000      0.000000   \n",
       "25%    3.673400e+04       0.000000  6.980000e+02      9.000000      0.000000   \n",
       "50%    2.929110e+05       0.000000  7.045000e+03     18.000000      0.000000   \n",
       "75%    1.204214e+06      99.000000  5.026400e+04     32.000000      0.000000   \n",
       "max    4.869723e+08  186370.000000  6.089942e+06    106.000000   2341.000000   \n",
       "\n",
       "                 5             6             7             8             9   \\\n",
       "count  40949.000000  40949.000000  40949.000000  40949.000000  40949.000000   \n",
       "mean     443.333854     55.720384     35.645535     67.464151      0.219468   \n",
       "std      496.695198     86.933548     69.960232     81.568249     10.055146   \n",
       "min        0.000000      0.000000      0.000000      0.000000      0.000000   \n",
       "25%       45.000000      5.527273      2.000000      8.278756      0.000000   \n",
       "50%      241.000000     23.374101     12.000000     35.069140      0.000000   \n",
       "75%      717.000000     71.828829     42.000000    102.554954      0.000000   \n",
       "max     2341.000000   2341.000000   2341.000000    731.394558   1923.000000   \n",
       "\n",
       "           ...                 44            45            46            47  \\\n",
       "count      ...       40949.000000  40949.000000  40949.000000  40949.000000   \n",
       "mean       ...           0.146157      0.136926      0.141640      0.132506   \n",
       "std        ...           0.353268      0.343774      0.348684      0.339045   \n",
       "min        ...           0.000000      0.000000      0.000000      0.000000   \n",
       "25%        ...           0.000000      0.000000      0.000000      0.000000   \n",
       "50%        ...           0.000000      0.000000      0.000000      0.000000   \n",
       "75%        ...           0.000000      0.000000      0.000000      0.000000   \n",
       "max        ...           1.000000      1.000000      1.000000      1.000000   \n",
       "\n",
       "                 48            49            50            51            52  \\\n",
       "count  40949.000000  40949.000000  40949.000000  40949.000000  40949.000000   \n",
       "mean       0.137635      0.148599      0.150846      0.143886      0.144888   \n",
       "std        0.344520      0.355698      0.357903      0.350979      0.351992   \n",
       "min        0.000000      0.000000      0.000000      0.000000      0.000000   \n",
       "25%        0.000000      0.000000      0.000000      0.000000      0.000000   \n",
       "50%        0.000000      0.000000      0.000000      0.000000      0.000000   \n",
       "75%        0.000000      0.000000      0.000000      0.000000      0.000000   \n",
       "max        1.000000      1.000000      1.000000      1.000000      1.000000   \n",
       "\n",
       "                 53  \n",
       "count  40949.000000  \n",
       "mean       7.322889  \n",
       "std       35.494550  \n",
       "min        0.000000  \n",
       "25%        0.000000  \n",
       "50%        0.000000  \n",
       "75%        3.000000  \n",
       "max     1305.000000  \n",
       "\n",
       "[8 rows x 54 columns]"
      ]
     },
     "execution_count": 153,
     "metadata": {},
     "output_type": "execute_result"
    }
   ],
   "source": [
    "df.describe()"
   ]
  },
  {
   "cell_type": "code",
   "execution_count": 154,
   "metadata": {
    "collapsed": false
   },
   "outputs": [
    {
     "data": {
      "text/plain": [
       "array([  1.,   2.,   3.,   4.,   5.,   6.,   7.,   8.,   9.,  10.,  11.,\n",
       "        12.,  13.,  14.,  15.,  16.,  17.,  18.,  19.,  20.,  21.,  22.,\n",
       "        23.,  24.])"
      ]
     },
     "execution_count": 154,
     "metadata": {},
     "output_type": "execute_result"
    }
   ],
   "source": [
    "# Getting unique values of \"H Local\" Feature\n",
    "np.unique(X[:,38])"
   ]
  },
  {
   "cell_type": "markdown",
   "metadata": {},
   "source": [
    "### Feature Normalize"
   ]
  },
  {
   "cell_type": "code",
   "execution_count": 155,
   "metadata": {
    "collapsed": false
   },
   "outputs": [],
   "source": [
    "# Import preprocessing functions in sklearn\n",
    "from sklearn import preprocessing\n",
    "\n",
    "# Normalize dataset features\n",
    "X_norm =  preprocessing.normalize(X[:,:53],axis= 1, copy= True)\n",
    "X_temp = X.copy()\n",
    "X_temp[:,0:53] = X_norm\n",
    "X_temp[:,53] = X[:,53]\n",
    "X_norm = X_temp\n",
    "\n",
    "# Converting X_norm to Dataframe\n",
    "df_norm = pd.DataFrame(X_norm)"
   ]
  },
  {
   "cell_type": "code",
   "execution_count": 156,
   "metadata": {
    "collapsed": false
   },
   "outputs": [
    {
     "data": {
      "text/html": [
       "<div>\n",
       "<style>\n",
       "    .dataframe thead tr:only-child th {\n",
       "        text-align: right;\n",
       "    }\n",
       "\n",
       "    .dataframe thead th {\n",
       "        text-align: left;\n",
       "    }\n",
       "\n",
       "    .dataframe tbody tr th {\n",
       "        vertical-align: top;\n",
       "    }\n",
       "</style>\n",
       "<table border=\"1\" class=\"dataframe\">\n",
       "  <thead>\n",
       "    <tr style=\"text-align: right;\">\n",
       "      <th></th>\n",
       "      <th>0</th>\n",
       "      <th>1</th>\n",
       "      <th>2</th>\n",
       "      <th>3</th>\n",
       "      <th>4</th>\n",
       "      <th>5</th>\n",
       "      <th>6</th>\n",
       "      <th>7</th>\n",
       "      <th>8</th>\n",
       "      <th>9</th>\n",
       "      <th>...</th>\n",
       "      <th>44</th>\n",
       "      <th>45</th>\n",
       "      <th>46</th>\n",
       "      <th>47</th>\n",
       "      <th>48</th>\n",
       "      <th>49</th>\n",
       "      <th>50</th>\n",
       "      <th>51</th>\n",
       "      <th>52</th>\n",
       "      <th>53</th>\n",
       "    </tr>\n",
       "  </thead>\n",
       "  <tbody>\n",
       "    <tr>\n",
       "      <th>count</th>\n",
       "      <td>40949.000000</td>\n",
       "      <td>40949.000000</td>\n",
       "      <td>40949.000000</td>\n",
       "      <td>4.094900e+04</td>\n",
       "      <td>40949.000000</td>\n",
       "      <td>40949.000000</td>\n",
       "      <td>40949.000000</td>\n",
       "      <td>40949.000000</td>\n",
       "      <td>40949.000000</td>\n",
       "      <td>4.094900e+04</td>\n",
       "      <td>...</td>\n",
       "      <td>40949.000000</td>\n",
       "      <td>40949.000000</td>\n",
       "      <td>40949.000000</td>\n",
       "      <td>40949.000000</td>\n",
       "      <td>40949.000000</td>\n",
       "      <td>40949.000000</td>\n",
       "      <td>40949.000000</td>\n",
       "      <td>40949.000000</td>\n",
       "      <td>40949.000000</td>\n",
       "      <td>40949.000000</td>\n",
       "    </tr>\n",
       "    <tr>\n",
       "      <th>mean</th>\n",
       "      <td>0.983812</td>\n",
       "      <td>0.025267</td>\n",
       "      <td>0.058903</td>\n",
       "      <td>2.217905e-03</td>\n",
       "      <td>0.000008</td>\n",
       "      <td>0.002787</td>\n",
       "      <td>0.000311</td>\n",
       "      <td>0.000179</td>\n",
       "      <td>0.000434</td>\n",
       "      <td>6.565721e-07</td>\n",
       "      <td>...</td>\n",
       "      <td>0.000010</td>\n",
       "      <td>0.000010</td>\n",
       "      <td>0.000010</td>\n",
       "      <td>0.000009</td>\n",
       "      <td>0.000012</td>\n",
       "      <td>0.000013</td>\n",
       "      <td>0.000011</td>\n",
       "      <td>0.000011</td>\n",
       "      <td>0.000010</td>\n",
       "      <td>7.322889</td>\n",
       "    </tr>\n",
       "    <tr>\n",
       "      <th>std</th>\n",
       "      <td>0.067383</td>\n",
       "      <td>0.116617</td>\n",
       "      <td>0.081969</td>\n",
       "      <td>1.217793e-02</td>\n",
       "      <td>0.000256</td>\n",
       "      <td>0.008209</td>\n",
       "      <td>0.000954</td>\n",
       "      <td>0.000683</td>\n",
       "      <td>0.001181</td>\n",
       "      <td>7.319091e-05</td>\n",
       "      <td>...</td>\n",
       "      <td>0.000111</td>\n",
       "      <td>0.000118</td>\n",
       "      <td>0.000121</td>\n",
       "      <td>0.000103</td>\n",
       "      <td>0.000192</td>\n",
       "      <td>0.000186</td>\n",
       "      <td>0.000148</td>\n",
       "      <td>0.000144</td>\n",
       "      <td>0.000121</td>\n",
       "      <td>35.494550</td>\n",
       "    </tr>\n",
       "    <tr>\n",
       "      <th>min</th>\n",
       "      <td>0.047232</td>\n",
       "      <td>0.000000</td>\n",
       "      <td>0.000000</td>\n",
       "      <td>6.148958e-09</td>\n",
       "      <td>0.000000</td>\n",
       "      <td>0.000000</td>\n",
       "      <td>0.000000</td>\n",
       "      <td>0.000000</td>\n",
       "      <td>0.000000</td>\n",
       "      <td>0.000000e+00</td>\n",
       "      <td>...</td>\n",
       "      <td>0.000000</td>\n",
       "      <td>0.000000</td>\n",
       "      <td>0.000000</td>\n",
       "      <td>0.000000</td>\n",
       "      <td>0.000000</td>\n",
       "      <td>0.000000</td>\n",
       "      <td>0.000000</td>\n",
       "      <td>0.000000</td>\n",
       "      <td>0.000000</td>\n",
       "      <td>0.000000</td>\n",
       "    </tr>\n",
       "    <tr>\n",
       "      <th>25%</th>\n",
       "      <td>0.994518</td>\n",
       "      <td>0.000000</td>\n",
       "      <td>0.007092</td>\n",
       "      <td>8.974377e-06</td>\n",
       "      <td>0.000000</td>\n",
       "      <td>0.000291</td>\n",
       "      <td>0.000036</td>\n",
       "      <td>0.000009</td>\n",
       "      <td>0.000050</td>\n",
       "      <td>0.000000e+00</td>\n",
       "      <td>...</td>\n",
       "      <td>0.000000</td>\n",
       "      <td>0.000000</td>\n",
       "      <td>0.000000</td>\n",
       "      <td>0.000000</td>\n",
       "      <td>0.000000</td>\n",
       "      <td>0.000000</td>\n",
       "      <td>0.000000</td>\n",
       "      <td>0.000000</td>\n",
       "      <td>0.000000</td>\n",
       "      <td>0.000000</td>\n",
       "    </tr>\n",
       "    <tr>\n",
       "      <th>50%</th>\n",
       "      <td>0.999174</td>\n",
       "      <td>0.000000</td>\n",
       "      <td>0.030617</td>\n",
       "      <td>7.406778e-05</td>\n",
       "      <td>0.000000</td>\n",
       "      <td>0.000776</td>\n",
       "      <td>0.000085</td>\n",
       "      <td>0.000038</td>\n",
       "      <td>0.000111</td>\n",
       "      <td>0.000000e+00</td>\n",
       "      <td>...</td>\n",
       "      <td>0.000000</td>\n",
       "      <td>0.000000</td>\n",
       "      <td>0.000000</td>\n",
       "      <td>0.000000</td>\n",
       "      <td>0.000000</td>\n",
       "      <td>0.000000</td>\n",
       "      <td>0.000000</td>\n",
       "      <td>0.000000</td>\n",
       "      <td>0.000000</td>\n",
       "      <td>0.000000</td>\n",
       "    </tr>\n",
       "    <tr>\n",
       "      <th>75%</th>\n",
       "      <td>0.999874</td>\n",
       "      <td>0.000198</td>\n",
       "      <td>0.072375</td>\n",
       "      <td>6.367665e-04</td>\n",
       "      <td>0.000000</td>\n",
       "      <td>0.002274</td>\n",
       "      <td>0.000250</td>\n",
       "      <td>0.000126</td>\n",
       "      <td>0.000338</td>\n",
       "      <td>0.000000e+00</td>\n",
       "      <td>...</td>\n",
       "      <td>0.000000</td>\n",
       "      <td>0.000000</td>\n",
       "      <td>0.000000</td>\n",
       "      <td>0.000000</td>\n",
       "      <td>0.000000</td>\n",
       "      <td>0.000000</td>\n",
       "      <td>0.000000</td>\n",
       "      <td>0.000000</td>\n",
       "      <td>0.000000</td>\n",
       "      <td>3.000000</td>\n",
       "    </tr>\n",
       "    <tr>\n",
       "      <th>max</th>\n",
       "      <td>1.000000</td>\n",
       "      <td>0.988438</td>\n",
       "      <td>0.566954</td>\n",
       "      <td>7.053838e-01</td>\n",
       "      <td>0.026099</td>\n",
       "      <td>0.103350</td>\n",
       "      <td>0.026099</td>\n",
       "      <td>0.026099</td>\n",
       "      <td>0.019514</td>\n",
       "      <td>1.304934e-02</td>\n",
       "      <td>...</td>\n",
       "      <td>0.005158</td>\n",
       "      <td>0.006187</td>\n",
       "      <td>0.006187</td>\n",
       "      <td>0.004974</td>\n",
       "      <td>0.021262</td>\n",
       "      <td>0.021482</td>\n",
       "      <td>0.009161</td>\n",
       "      <td>0.011600</td>\n",
       "      <td>0.008462</td>\n",
       "      <td>1305.000000</td>\n",
       "    </tr>\n",
       "  </tbody>\n",
       "</table>\n",
       "<p>8 rows × 54 columns</p>\n",
       "</div>"
      ],
      "text/plain": [
       "                 0             1             2             3             4   \\\n",
       "count  40949.000000  40949.000000  40949.000000  4.094900e+04  40949.000000   \n",
       "mean       0.983812      0.025267      0.058903  2.217905e-03      0.000008   \n",
       "std        0.067383      0.116617      0.081969  1.217793e-02      0.000256   \n",
       "min        0.047232      0.000000      0.000000  6.148958e-09      0.000000   \n",
       "25%        0.994518      0.000000      0.007092  8.974377e-06      0.000000   \n",
       "50%        0.999174      0.000000      0.030617  7.406778e-05      0.000000   \n",
       "75%        0.999874      0.000198      0.072375  6.367665e-04      0.000000   \n",
       "max        1.000000      0.988438      0.566954  7.053838e-01      0.026099   \n",
       "\n",
       "                 5             6             7             8             9   \\\n",
       "count  40949.000000  40949.000000  40949.000000  40949.000000  4.094900e+04   \n",
       "mean       0.002787      0.000311      0.000179      0.000434  6.565721e-07   \n",
       "std        0.008209      0.000954      0.000683      0.001181  7.319091e-05   \n",
       "min        0.000000      0.000000      0.000000      0.000000  0.000000e+00   \n",
       "25%        0.000291      0.000036      0.000009      0.000050  0.000000e+00   \n",
       "50%        0.000776      0.000085      0.000038      0.000111  0.000000e+00   \n",
       "75%        0.002274      0.000250      0.000126      0.000338  0.000000e+00   \n",
       "max        0.103350      0.026099      0.026099      0.019514  1.304934e-02   \n",
       "\n",
       "           ...                 44            45            46            47  \\\n",
       "count      ...       40949.000000  40949.000000  40949.000000  40949.000000   \n",
       "mean       ...           0.000010      0.000010      0.000010      0.000009   \n",
       "std        ...           0.000111      0.000118      0.000121      0.000103   \n",
       "min        ...           0.000000      0.000000      0.000000      0.000000   \n",
       "25%        ...           0.000000      0.000000      0.000000      0.000000   \n",
       "50%        ...           0.000000      0.000000      0.000000      0.000000   \n",
       "75%        ...           0.000000      0.000000      0.000000      0.000000   \n",
       "max        ...           0.005158      0.006187      0.006187      0.004974   \n",
       "\n",
       "                 48            49            50            51            52  \\\n",
       "count  40949.000000  40949.000000  40949.000000  40949.000000  40949.000000   \n",
       "mean       0.000012      0.000013      0.000011      0.000011      0.000010   \n",
       "std        0.000192      0.000186      0.000148      0.000144      0.000121   \n",
       "min        0.000000      0.000000      0.000000      0.000000      0.000000   \n",
       "25%        0.000000      0.000000      0.000000      0.000000      0.000000   \n",
       "50%        0.000000      0.000000      0.000000      0.000000      0.000000   \n",
       "75%        0.000000      0.000000      0.000000      0.000000      0.000000   \n",
       "max        0.021262      0.021482      0.009161      0.011600      0.008462   \n",
       "\n",
       "                 53  \n",
       "count  40949.000000  \n",
       "mean       7.322889  \n",
       "std       35.494550  \n",
       "min        0.000000  \n",
       "25%        0.000000  \n",
       "50%        0.000000  \n",
       "75%        3.000000  \n",
       "max     1305.000000  \n",
       "\n",
       "[8 rows x 54 columns]"
      ]
     },
     "execution_count": 156,
     "metadata": {},
     "output_type": "execute_result"
    }
   ],
   "source": [
    "# Analysis data after normalization\n",
    "df_norm.describe()"
   ]
  },
  {
   "cell_type": "markdown",
   "metadata": {},
   "source": [
    "### Adding Average Of CC2, CC3, CC4 for later use"
   ]
  },
  {
   "cell_type": "code",
   "execution_count": 157,
   "metadata": {
    "collapsed": false
   },
   "outputs": [],
   "source": [
    "# We use this column when we want to plot \"Average of Total Comments\" vs. \"Pages Likes\" and etc.\n",
    "temp = np.mean(X_norm[:,31:34],axis=1)\n",
    "\n",
    "# Inserting new column before target column\n",
    "X_norm = np.insert(arr=X_norm,obj=53,values=temp, axis=1)\n",
    "\n",
    "# Converting new created Matrix to dataframe\n",
    "df_norm = pd.DataFrame(X_norm)"
   ]
  },
  {
   "cell_type": "markdown",
   "metadata": {},
   "source": [
    "### Convert all of the columns relates to \"Post Published Weekday\" to pd.Series"
   ]
  },
  {
   "cell_type": "code",
   "execution_count": 158,
   "metadata": {
    "collapsed": false
   },
   "outputs": [],
   "source": [
    "weekday = matrixToNumber(df.T[39:46].T)\n",
    "X = np.insert(arr=X,obj=53,values=weekday, axis=1)\n",
    "df = pd.DataFrame(X)"
   ]
  },
  {
   "cell_type": "markdown",
   "metadata": {},
   "source": [
    "### Plot the data"
   ]
  },
  {
   "cell_type": "code",
   "execution_count": 159,
   "metadata": {
    "collapsed": false
   },
   "outputs": [
    {
     "data": {
      "text/plain": [
       "<matplotlib.text.Text at 0xa46b5ff278>"
      ]
     },
     "execution_count": 159,
     "metadata": {},
     "output_type": "execute_result"
    },
    {
     "data": {
      "image/png": "[encoded data removed]",
      "text/plain": [
       "<matplotlib.figure.Figure at 0xa4708a3d68>"
      ]
     },
     "metadata": {},
     "output_type": "display_data"
    }
   ],
   "source": [
    "fig = plt.figure()\n",
    "\n",
    "axes1 = fig.add_axes([0, 2, 0.8, 0.8])\n",
    "axes2 = fig.add_axes([1,2,0.8,0.8])\n",
    "axes3 = fig.add_axes([0,1,0.8,0.8])\n",
    "axes4 = fig.add_axes([1,1,0.8,0.8])\n",
    "axes5 = fig.add_axes([0,0,0.8,0.8])\n",
    "\n",
    "# \"Pages Likes/Popularity\" Vs. \"Pages Category\"\n",
    "axes1.plot(X_norm[:,35], X_norm[:,0], marker='o', markersize=5, lw= 0)\n",
    "axes1.set_xlabel(\"Post Length\")\n",
    "axes1.set_ylabel(\"Post Likes/Popularity\")\n",
    "\n",
    "# =====> We can conclude when posts become very long, popularity of the posts decrease !!!!\n",
    "\n",
    "# \"Page popularity/Likes\" vs. \"Share Counts\"\n",
    "axes2.plot(X_norm[:,0], X_norm[:,36], marker='o', markersize=5, lw= 0)\n",
    "axes2.set_xlabel(\"Post Likes/Popularity\")\n",
    "axes2.set_ylabel(\"Post Share Count \")\n",
    "\n",
    "# ======> We can conclude when posts populartiy increases, the amounts of share increases too.\n",
    "\n",
    "# \"Page talking about\" vs. \"Share Counts\"\n",
    "axes3.plot(X_norm[:,2], X_norm[:,36], marker='o', markersize=5, lw= 0)\n",
    "axes3.set_xlabel(\"Page talking about\")\n",
    "axes3.set_ylabel(\"Post Share Count\")\n",
    "\n",
    "# ======> There is no good relation that make sense\n",
    "\n",
    "# \"Average of Comments ( Average of CC2, CC3, CC4 )\" vs. \"Page popularity/likes\"\n",
    "axes4.plot(X_norm[:,0],X_norm[:,53], marker='o', markersize=5, lw= 0)\n",
    "axes4.set_xlabel(\"Page popularity/likes\")\n",
    "axes4.set_ylabel(\"Average of Comments ( Average of CC2, CC3, CC4 )\")\n",
    "\n",
    "# ======> We can conclude that when post popularity increase, the amounts of the comments increase too.\n",
    "\n",
    "# \"Average of Comments ( Average of CC2, CC3, CC4 )\" vs. \"Page popularity/likes\"\n",
    "axes5.plot(X_norm[:,35],X_norm[:,53], marker='o', markersize=5, lw= 0)\n",
    "axes5.set_xlabel(\"Post Length\")\n",
    "axes5.set_ylabel(\"Average of Comments ( Average of CC2, CC3, CC4 )\")\n",
    "\n",
    "# ======> We can conclude when posts become very long, average numbers of the comments decrease !!!!\n"
   ]
  },
  {
   "cell_type": "code",
   "execution_count": 160,
   "metadata": {
    "collapsed": false
   },
   "outputs": [
    {
     "data": {
      "text/plain": [
       "<matplotlib.text.Text at 0xa456caf780>"
      ]
     },
     "execution_count": 160,
     "metadata": {},
     "output_type": "execute_result"
    },
    {
     "data": {
      "image/png": "[encoded data removed]",
      "text/plain": [
       "<matplotlib.figure.Figure at 0xa4708a3630>"
      ]
     },
     "metadata": {},
     "output_type": "display_data"
    }
   ],
   "source": [
    "fig = plt.figure()\n",
    "\n",
    "axes1 = fig.add_axes([0, 2, 0.8, 0.8])\n",
    "axes2 = fig.add_axes([1,2,0.8,0.8])\n",
    "axes3 = fig.add_axes([0,1,0.8,0.8])\n",
    "axes4 = fig.add_axes([1,1,0.8,0.8])\n",
    "axes5 = fig.add_axes([0,0,1.8,0.8])\n",
    "\n",
    "# Before Plotting the data, we should convert all of the columns relates to \"Post Published Weekday\" to pd.Series\n",
    "weekday = matrixToNumber(df.T[39:46].T)\n",
    "\n",
    "# plot \"Post published weekday\" Countplot\n",
    "sns.countplot(weekday ,palette='viridis', ax= axes1)\n",
    "axes1.set_xlabel(\"Published Weekday\")\n",
    "axes1.set_xticklabels([\"Sunday\",\"Monday\",\"Tuesday\",\"Wednesday\",\"Thursday\",\"Friday\",\"Saturday\"])\n",
    "\n",
    "# plot \"H local\" Countplot\n",
    "axes2.set_yscale(\"log\")\n",
    "sns.countplot(df[38].astype('int') ,palette= 'viridis', ax= axes2)\n",
    "axes2.set_xlabel(\"H Local\")\n",
    "\n",
    "# =====> We can see that majority of posts published at 24 H Local and Wednesday\n",
    "\n",
    "# Plot \"Promotion\" Countplot\n",
    "axes3.set_yscale(\"log\")\n",
    "sns.countplot(df[37] ,palette= 'viridis', ax= axes3)\n",
    "axes3.set_xlabel(\"Promotion\")\n",
    "\n",
    "# =====> We can see that all of the posts promotion status is 0, So This column has no effect on our predections\n",
    "# =====> So we can ignore this column\n",
    "\n",
    "# Plot \"Target Variable\" Countplot\n",
    "sns.countplot(df[54].astype('int'), palette= 'viridis', ax= axes4)\n",
    "axes4.set_yscale(\"log\")\n",
    "axes4.set_xlabel(\"Target Varible\")\n",
    "\n",
    "# Plot \"Category\" Countplot\n",
    "sns.countplot(df[3].astype('int'),palette= 'viridis', ax= axes5)\n",
    "axes5.set_xlabel(\"Page Category\")\n",
    "\n",
    "# ======> We can see 9, 18 and 36 categorie's have occupied majority of posts"
   ]
  },
  {
   "cell_type": "code",
   "execution_count": 161,
   "metadata": {
    "collapsed": false
   },
   "outputs": [
    {
     "data": {
      "text/plain": [
       "[<matplotlib.lines.Line2D at 0xa457ce0518>]"
      ]
     },
     "execution_count": 161,
     "metadata": {},
     "output_type": "execute_result"
    },
    {
     "data": {
      "image/png": "[encoded data removed]",
      "text/plain": [
       "<matplotlib.figure.Figure at 0xa457924d68>"
      ]
     },
     "metadata": {},
     "output_type": "display_data"
    }
   ],
   "source": [
    "# \"Post published weekday\" vs. \"H local\"\n",
    "plt.plot(weekday,df[38], marker='o', markersize=5, lw= 0)\n",
    "\n",
    "# =====> We can see except Wendsday and Thursday, most of the post's published in 24 H Local"
   ]
  },
  {
   "cell_type": "code",
   "execution_count": 162,
   "metadata": {
    "collapsed": false
   },
   "outputs": [
    {
     "data": {
      "text/plain": [
       "<matplotlib.text.Text at 0xa457df29b0>"
      ]
     },
     "execution_count": 162,
     "metadata": {},
     "output_type": "execute_result"
    },
    {
     "data": {
      "image/png": "[encoded data removed]",
      "text/plain": [
       "<matplotlib.figure.Figure at 0xa457cd3748>"
      ]
     },
     "metadata": {},
     "output_type": "display_data"
    }
   ],
   "source": [
    "fig = plt.figure(figsize=(12,10))\n",
    "\n",
    "axes1 = fig.add_axes([0, 2, 2, 1])\n",
    "axes2 = fig.add_axes([0,1,2,1])\n",
    "\n",
    "# Plot \"Category\" vs. \"Popularity\" barplot\n",
    "axes1.set_yscale('log')\n",
    "sns.barplot(x=\"3\",y=\"0\",data=df.rename(columns=(lambda x: str(x))).astype('int'), palette='viridis',ax=axes1)\n",
    "axes1.set_xlabel(\"Page Category\")\n",
    "axes1.set_ylabel(\"Page Popularity/Likes\")\n",
    "\n",
    "# =====> We can conclude that \"47\", \"61\" and \"33\" has the majority of the popularity\n",
    "\n",
    "# Plot \"Category\" vs. \"Share amount\" barplot\n",
    "sns.barplot(x=\"3\",y=\"36\",data=df.rename(columns=(lambda x: str(x))).astype('int'), palette='viridis',ax=axes2)\n",
    "axes2.set_xlabel(\"Page Category\")\n",
    "axes2.set_ylabel(\"Page Share Amounts\")\n",
    "# =====> We can conclude that \"47\", \"61\" and \"33\" has the majority of the Share Amounts\n"
   ]
  },
  {
   "cell_type": "markdown",
   "metadata": {
    "collapsed": true
   },
   "source": [
    "# Predection Section"
   ]
  },
  {
   "cell_type": "code",
   "execution_count": 170,
   "metadata": {
    "collapsed": true
   },
   "outputs": [],
   "source": [
    "# Using sklearn for spliting data into train_set and test_set\n",
    "from sklearn.cross_validation import train_test_split\n",
    "\n",
    "# Using Sklearn linear regression function for finding best thetas ( Linear Regression with multiple Varibles )\n",
    "from sklearn.linear_model import LinearRegression"
   ]
  },
  {
   "cell_type": "code",
   "execution_count": 241,
   "metadata": {
    "collapsed": false
   },
   "outputs": [],
   "source": [
    "# Before Fitting model, We should get rid of columns that has no effect on our predections\n",
    "X_norm = np.delete(X_norm, 37, 1)"
   ]
  },
  {
   "cell_type": "code",
   "execution_count": 242,
   "metadata": {
    "collapsed": false
   },
   "outputs": [],
   "source": [
    "# Spliting Normalized dataset into train and test datasets\n",
    "X_train, X_test, y_train, y_test = train_test_split(X_norm, y, test_size=0.33, random_state=42)"
   ]
  },
  {
   "cell_type": "code",
   "execution_count": 243,
   "metadata": {
    "collapsed": true
   },
   "outputs": [],
   "source": [
    "# Initializing Model\n",
    "lm = LinearRegression()"
   ]
  },
  {
   "cell_type": "code",
   "execution_count": 244,
   "metadata": {
    "collapsed": false
   },
   "outputs": [
    {
     "data": {
      "text/plain": [
       "LinearRegression(copy_X=True, fit_intercept=True, n_jobs=1, normalize=False)"
      ]
     },
     "execution_count": 244,
     "metadata": {},
     "output_type": "execute_result"
    }
   ],
   "source": [
    "# Fitting data to model\n",
    "lm.fit(X_train,y_train)"
   ]
  },
  {
   "cell_type": "code",
   "execution_count": 245,
   "metadata": {
    "collapsed": false
   },
   "outputs": [
    {
     "data": {
      "text/plain": [
       "array([ -1.97259076e-13,  -1.26010313e-13,  -4.30211422e-16,\n",
       "         1.42811964e-13,  -2.66246535e-11,  -1.40792399e-12,\n",
       "         1.75120599e-11,  -4.76140988e-12,   2.13526862e-11,\n",
       "         4.43723313e-11,   1.63138981e-12,  -1.34139799e-11,\n",
       "        -9.68417399e-12,   4.75381053e-12,  -6.13361841e-11,\n",
       "        -1.62491033e-12,  -5.47973212e-12,  -8.26207156e-12,\n",
       "        -3.42591410e-12,   3.07854164e-11,   1.23604476e-12,\n",
       "        -1.01151792e-11,   3.36087324e-12,  -2.47833111e-11,\n",
       "        -1.72085435e-12,  -1.63807976e-12,  -7.93424782e-12,\n",
       "         1.22382193e-11,   4.61429518e-12,   9.11239338e-13,\n",
       "        -2.52168403e-13,  -1.41959039e-13,  -2.15403977e-13,\n",
       "        -1.10209330e-13,   4.45187139e-15,  -8.91751446e-14,\n",
       "         6.09518176e-13,  -1.11607898e-12,   1.40154956e-11,\n",
       "         1.95080439e-11,   1.67083511e-11,   1.31772849e-11,\n",
       "         1.44126001e-11,   7.20496133e-12,   6.32849850e-12,\n",
       "         1.82138656e-11,   1.48197957e-11,   1.13775765e-11,\n",
       "         1.31492350e-11,   8.10719909e-12,   1.39769934e-11,\n",
       "         1.17105702e-11,  -1.55857446e-13,   1.00000000e+00])"
      ]
     },
     "execution_count": 245,
     "metadata": {},
     "output_type": "execute_result"
    }
   ],
   "source": [
    "# Model thetas\n",
    "lm.coef_"
   ]
  },
  {
   "cell_type": "code",
   "execution_count": 246,
   "metadata": {
    "collapsed": false
   },
   "outputs": [],
   "source": [
    "# Simplest way for evaluating model ( Squared Mean Error )\n",
    "pred = lm.predict(X_test)\n",
    "eval_arr = np.sum(np.power( pred - y_test , 2),axis=0) / len(pred)"
   ]
  },
  {
   "cell_type": "code",
   "execution_count": 247,
   "metadata": {
    "collapsed": false
   },
   "outputs": [
    {
     "data": {
      "text/plain": [
       "[<matplotlib.lines.Line2D at 0xa457192e48>]"
      ]
     },
     "execution_count": 247,
     "metadata": {},
     "output_type": "execute_result"
    },
    {
     "data": {
      "image/png": "[encoded data removed]",
      "text/plain": [
       "<matplotlib.figure.Figure at 0xa404901fd0>"
      ]
     },
     "metadata": {},
     "output_type": "display_data"
    }
   ],
   "source": [
    "# Plot predections vs. y_test for better understanding how our model works!\n",
    "fig = plt.figure(figsize=(12,8))\n",
    "ax = fig.add_axes([0,0,1,1])\n",
    "\n",
    "ax.set_xlabel(\"Predections\")\n",
    "ax.set_ylabel(\"Test Target Varible\")\n",
    "ax.plot(pred, y_test,'bo')\n",
    "\n",
    "# ====> We can conclude that our model works perfect"
   ]
  },
  {
   "cell_type": "code",
   "execution_count": 248,
   "metadata": {
    "collapsed": true
   },
   "outputs": [],
   "source": [
    "# Evaluating model with sklearn functions\n",
    "from sklearn.metrics import mean_absolute_error\n",
    "from sklearn.metrics import mean_squared_error"
   ]
  },
  {
   "cell_type": "code",
   "execution_count": 249,
   "metadata": {
    "collapsed": false
   },
   "outputs": [
    {
     "name": "stdout",
     "output_type": "stream",
     "text": [
      "Mean Absolute Error: 4.71754761292e-15\n",
      "Mean Squared Error: 1.31265944701e-28\n"
     ]
    }
   ],
   "source": [
    "print('Mean Absolute Error:', mean_absolute_error(y_test, pred))\n",
    "print('Mean Squared Error:',mean_squared_error(y_test, pred))"
   ]
  },
  {
   "cell_type": "code",
   "execution_count": 250,
   "metadata": {
    "collapsed": false
   },
   "outputs": [
    {
     "data": {
      "text/plain": [
       "'Precision Of model: 99.99999999999953%'"
      ]
     },
     "execution_count": 250,
     "metadata": {},
     "output_type": "execute_result"
    }
   ],
   "source": [
    "\"Precision Of model: {}%\". format( ( 1 - mean_absolute_error(y_test,pred) ) * 100 ) "
   ]
  },
  {
   "cell_type": "code",
   "execution_count": null,
   "metadata": {
    "collapsed": true
   },
   "outputs": [],
   "source": [
    "# Plotting Learning curves for better analysis\n",
    "plotLearningCurves(X_norm, y)"
   ]
  },
  {
   "cell_type": "code",
   "execution_count": 276,
   "metadata": {
    "collapsed": false
   },
   "outputs": [],
   "source": [
    "# Try and catch in beginning of the function\n",
    "def plotLearningCurves(X,y):\n",
    "    m,n = X.shape\n",
    "    maxVal = (int)(m / 10) * 10\n",
    "    N_size_arr = np.arange(0, maxVal + 10, 10)\n",
    "    error_arr = np.zeros(( len(np.arange(0, maxVal + 10, 10)) ,2 ))\n",
    "    index = 0\n",
    "    \n",
    "    for i in N_size_arr:\n",
    "        X_train, X_test, y_train, y_test = train_test_split(X[:i,:], y[:i], test_size=0.33, random_state=42)\n",
    "        \n",
    "        lm.fit(X_train, y_train)\n",
    "        \n",
    "        error_arr[index,0] = mean_squared_error(y_train , lm.predict(X_train))\n",
    "        error_arr[index,1] = mean_absolute_error(y_test, lm.predict(X_test))\n",
    "        \n",
    "        index += 1\n",
    "    \n",
    "    fig = plt.figure(figsize=(12,8))\n",
    "    ax = fig.add_axes([0,0,1,1])\n",
    "    \n",
    "    ax.plot(N_size_arr,error_arr[:,0], c='red')\n",
    "    ax.plot(N_size_arr,error_arr[:,1], c='blue')"
   ]
  },
  {
   "cell_type": "code",
   "execution_count": null,
   "metadata": {
    "collapsed": true
   },
   "outputs": [],
   "source": []
  }
 ],
 "metadata": {
  "kernelspec": {
   "display_name": "Python 3",
   "language": "python",
   "name": "python3"
  },
  "language_info": {
   "codemirror_mode": {
    "name": "ipython",
    "version": 3
   },
   "file_extension": ".py",
   "mimetype": "text/x-python",
   "name": "python",
   "nbconvert_exporter": "python",
   "pygments_lexer": "ipython3",
   "version": "3.6.0"
  }
 },
 "nbformat": 4,
 "nbformat_minor": 2
}
