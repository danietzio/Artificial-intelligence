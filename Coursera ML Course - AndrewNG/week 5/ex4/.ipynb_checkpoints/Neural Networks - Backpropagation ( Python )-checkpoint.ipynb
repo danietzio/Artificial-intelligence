{
 "cells": [
  {
   "cell_type": "markdown",
   "metadata": {},
   "source": [
    "## Initialization"
   ]
  },
  {
   "cell_type": "code",
   "execution_count": 6,
   "metadata": {
    "collapsed": true
   },
   "outputs": [],
   "source": [
    "import pandas as pd\n",
    "import numpy as np\n",
    "import seaborn as sns\n",
    "import matplotlib.pyplot as plt\n",
    "import math\n",
    "import scipy.io\n",
    "from scipy.special import expit\n",
    "from math import *\n",
    "from scipy import optimize"
   ]
  },
  {
   "cell_type": "code",
   "execution_count": 7,
   "metadata": {
    "collapsed": true
   },
   "outputs": [],
   "source": [
    "sns.set_style('whitegrid')\n",
    "%matplotlib inline"
   ]
  },
  {
   "cell_type": "markdown",
   "metadata": {},
   "source": [
    "## Loading Data"
   ]
  },
  {
   "cell_type": "code",
   "execution_count": 8,
   "metadata": {
    "collapsed": false
   },
   "outputs": [],
   "source": [
    "mat = scipy.io.loadmat('ex4data1.mat')\n",
    "X = mat['X']\n",
    "y = mat['y']\n",
    "X = np.insert(X,0,1,axis= 1)"
   ]
  },
  {
   "cell_type": "code",
   "execution_count": 9,
   "metadata": {
    "collapsed": false
   },
   "outputs": [],
   "source": [
    "m,n = X.shape\n",
    "input_layer_size = 400\n",
    "hidden_layer_size = 25\n",
    "num_labels = 10\n",
    "_lambda = 1"
   ]
  },
  {
   "cell_type": "markdown",
   "metadata": {},
   "source": [
    "## Function Section"
   ]
  },
  {
   "cell_type": "code",
   "execution_count": 70,
   "metadata": {
    "collapsed": false
   },
   "outputs": [],
   "source": [
    "#functions Sections\n",
    "def magic_display(matrix = None):\n",
    "    if matrix is None:\n",
    "        # selecting 100 random rows of the X\n",
    "        rand_indces = np.random.permutation(m)[0:100]\n",
    "        X_dis = X[rand_indces]\n",
    "    else:\n",
    "        X_dis = matrix\n",
    "      \n",
    "    if( len(X_dis.shape) > 1 ): \n",
    "        m_test,n_test = X_dis.shape\n",
    "        axis_bound = 1\n",
    "    else:\n",
    "        m_test = 1\n",
    "        n_test = X_dis.shape[0]\n",
    "        axis_bound = 0\n",
    "    \n",
    "    # each number width , height in plot\n",
    "    example_width = int(round(sqrt(n_test)))\n",
    "    example_height = int(round( n_test / example_width ))\n",
    "\n",
    "    # number of numbers to show in plot\n",
    "    display_rows = floor(sqrt(m_test))\n",
    "    display_cols = ceil(m_test / display_rows )\n",
    "\n",
    "    # padding between numbers\n",
    "    pad = 2\n",
    "\n",
    "    # intilazation array for holding previos 100 random numbers\n",
    "    display_array = np.ones((\n",
    "                             pad + display_rows * ( example_height + pad ),\n",
    "                             pad + display_cols * ( example_width + pad )\n",
    "                            ))\n",
    "    count = 0;\n",
    "    \n",
    "    for i in range(display_rows):\n",
    "        for j in range(display_cols):\n",
    "            if( count >= m_test ):\n",
    "                break\n",
    "\n",
    "            # max_val of each row in X_dis\n",
    "            max_val = np.max( X_dis[count : count+1], axis= axis_bound)\n",
    "\n",
    "            # Starting x,y point of numbers shape in array \n",
    "            ex_x_range = pad + ( i ) * ( example_height + pad )\n",
    "            ex_y_range = pad + ( j ) * ( example_width + pad )\n",
    "            \n",
    "            if(m_test > 1):\n",
    "                ex_arr = X_dis[ count : count + 1 , 1:].reshape(example_height , example_width)\n",
    "            else:\n",
    "                ex_arr = X_dis[1:].reshape(example_height , example_width)\n",
    "                \n",
    "            # Setting values\n",
    "            display_array[ ex_x_range : ex_x_range + example_height,\n",
    "                           ex_y_range : ex_y_range + example_width ] = np.divide(ex_arr , max_val)\n",
    "            count += 1\n",
    "    \n",
    "    # Plotting 100 random data\n",
    "    plt.figure(figsize=(12,8))\n",
    "\n",
    "    # Get rod of grid\n",
    "    plt.grid(False)\n",
    "    plt.imshow(display_array)\n",
    "\n",
    "def hyp(matrix):\n",
    "    return expit(matrix)\n",
    "    \n",
    "def neural_cost_function(nn_params, input_layer_size, hidden_layer_size, num_labels, X, y, _lam):\n",
    "    # initialization some varibles\n",
    "    if(len(X.shape) > 1):\n",
    "        axis_bound = 1\n",
    "    else:\n",
    "        axis_bound = 0\n",
    "    \n",
    "    # reshaping from one dimensional to 2d dimensional parameter vector\n",
    "    end_indx_theta1 = hidden_layer_size * ( input_layer_size + 1 )\n",
    "    Theta1 = np.reshape( nn_params[0 : end_indx_theta1 ],\n",
    "                         ( hidden_layer_size, input_layer_size + 1 ))\n",
    "    \n",
    "    # reshaping from one dimensional to 2d dimensional parameter vector\n",
    "    Theta2 = np.reshape( nn_params[end_indx_theta1 : ],\n",
    "                        ( num_labels, hidden_layer_size + 1 ))\n",
    "\n",
    "    # Copmuting hidden level activation\n",
    "    z_2 = np.dot(X, Theta1.T )\n",
    "    hidden_activation = hyp( z_2 )\n",
    "    hidden_activation = np.insert( hidden_activation, 0, 1, axis=axis_bound )\n",
    "    \n",
    "    # Copmuting output level activation\n",
    "    z_3 = np.dot(hidden_activation, Theta2.T)\n",
    "    out_activation = hyp(z_3)\n",
    "\n",
    "    # finding hypotesis matrix\n",
    "    h = out_activation\n",
    "    \n",
    "    # Computing Log(sigmoid(x)) for all of the hypotesis elements\n",
    "    h1 = np.log(h)\n",
    "    \n",
    "    # Computing Log( 1 - simgoid(x)) for all of the hypotesis elements\n",
    "    h2 = np.log(1 - h)\n",
    "    \n",
    "    # Creating new matrix for y\n",
    "    new_y0 = ( y - 1 ).copy()\n",
    "    new_y1 = np.zeros(out_activation.shape)\n",
    "    new_y1[np.arange(0,out_activation.shape[0]),new_y0.T] = 1\n",
    "    \n",
    "    # Computing Regularization Part Varibles\n",
    "    Theta1_pow2 = Theta1 * Theta1\n",
    "    Theta2_pow2 = Theta2 * Theta2\n",
    "\n",
    "    #Computing Cost of the hypotesis\n",
    "    J =  ( -1 / m ) * sum(sum( new_y1 * h1 + (1 - new_y1) * h2)) + \\\n",
    "                                        ( _lam / ( 2 * m )) * ( sum(sum( Theta1_pow2 )) + sum(sum( Theta2_pow2 )) )\n",
    "    \n",
    "    return J\n",
    "\n",
    "def neural_gradient_function(nn_params, input_layer_size, hidden_layer_size, num_labels, X, y, _lam):\n",
    "    # initialization some varibles\n",
    "    if(len(X.shape) > 1):\n",
    "        axis_bound = 1\n",
    "    else:\n",
    "        axis_bound = 0\n",
    "    \n",
    "    # Number of training examples \n",
    "    m = X.shape[0]\n",
    "    \n",
    "    # reshaping from one dimensional to 2d dimensional parameter vector\n",
    "    end_indx_theta1 = hidden_layer_size * ( input_layer_size + 1 )\n",
    "    Theta1 = np.reshape( nn_params[0 : end_indx_theta1 ],\n",
    "                         ( hidden_layer_size, input_layer_size + 1 ))\n",
    "    \n",
    "    # reshaping from one dimensional to 2d dimensional parameter vector\n",
    "    Theta2 = np.reshape( nn_params[end_indx_theta1 : ],\n",
    "                        ( num_labels, hidden_layer_size + 1 ))\n",
    "    \n",
    "    # Defining Delta's\n",
    "    Delta1 = np.zeros(Theta1.shape)\n",
    "    Delta2 = np.zeros(Theta2.shape)\n",
    "\n",
    "    # Defining Theta_grad Matrixs\n",
    "    Theta1_grad = np.zeros(Theta1.shape)\n",
    "    Theta2_grad = np.zeros(Theta2.shape)\n",
    "\n",
    "    for i in range(m):\n",
    "        X_input = X[i : i + 1,:]\n",
    "\n",
    "        # Copmuting hidden level activation\n",
    "        z_2 = np.dot( X_input, Theta1.T )\n",
    "        hidden_activation = hyp( z_2 )\n",
    "        hidden_activation = np.insert( hidden_activation, 0, 1, axis=axis_bound )\n",
    "        \n",
    "        # Copmuting output level activation\n",
    "        z_3 = np.dot( hidden_activation, Theta2.T )\n",
    "        out_activation = hyp( z_3 )\n",
    "\n",
    "        # finding hypotesis matrix\n",
    "        h = out_activation\n",
    "\n",
    "        # Creating new matrix for y\n",
    "        new_y0 = ( y - 1 ).copy()\n",
    "        new_y1 = np.zeros(out_activation.shape[1])\n",
    "        new_y1[new_y0[i]] = 1\n",
    "\n",
    "        # Computing erros\n",
    "        out_error = h - new_y1 \n",
    "\n",
    "        z_2 = np.insert(z_2, 0, 1, axis=1)\n",
    "        hidden_error = np.dot( out_error , Theta2 ).T * sigmoid_gradient(z_2).T\n",
    "        hidden_error = hidden_error[ 1: ]\n",
    "\n",
    "        # Computing Delta\n",
    "        Delta1 =  Delta1 + hidden_error * X_input\n",
    "        Delta2 =  Delta2 + out_error.T * hidden_activation\n",
    "    \n",
    "    Theta1_grad[:, 0:1 ] = ( 1 / m ) * ( Delta1[:, 0:1 ] )\n",
    "    Theta1_grad[:, 1:  ] = ( 1 / m ) * ( Delta1[:, 1:  ] ) + ( _lam / m ) * Theta1[:, 1:  ] \n",
    "    \n",
    "    Theta2_grad[:, 0:1 ] = ( 1 / m ) * ( Delta2[:, 0:1 ] )\n",
    "    Theta2_grad[:, 1:  ] = ( 1 / m ) * ( Delta2[:, 1:  ] ) + ( _lam / m ) * Theta2[:, 1:  ] \n",
    "    \n",
    "    # Converting Weigths to 1 Dimensional Matrix's\n",
    "    Theta1_grad_flat = np.array(Theta1_grad.flat)\n",
    "    Theta2_grad_flat = np.array(Theta2_grad.flat)\n",
    "    \n",
    "    return np.concatenate((Theta1_grad_flat, Theta2_grad_flat)) * 1e-3\n",
    "\n",
    "def sigmoid_gradient(matrix):\n",
    "        return hyp(matrix) * ( 1 - hyp(matrix) )\n",
    "\n",
    "def checking_gradient(_lambda):\n",
    "    if(_lambda == None):\n",
    "        _lambda = 0\n",
    "    \n",
    "    input_layer_size = 3\n",
    "    hidden_layer_size = 5\n",
    "    num_labels = 3\n",
    "    m = 5\n",
    "    \n",
    "    Theta1 = debug_initialaize_weights(hidden_layer_size, input_layer_size)\n",
    "    Theta2 = debug_initialaize_weights(num_labels, hidden_layer_size)\n",
    "\n",
    "    X = debug_initialaize_weights(m, input_layer_size - 1)\n",
    "    y = 1 + np.mod(np.arange(0,m), num_labels)\n",
    "\n",
    "    # initialization some varibles\n",
    "    if(len(X.shape) > 1):\n",
    "        axis_bound = 1\n",
    "    else:\n",
    "        axis_bound = 0\n",
    "    \n",
    "    # Inserting 1's column to matrix\n",
    "    X = np.insert( X, 0, 1, axis= axis_bound)\n",
    "\n",
    "    Theta1_flat = np.array(Theta1.flat)\n",
    "    Theta2_flat = np.array(Theta2.flat)\n",
    "    \n",
    "    Theta = np.concatenate((Theta1_flat, Theta2_flat))\n",
    "\n",
    "    grad = neural_gradient_function(Theta, input_layer_size, hidden_layer_size, num_labels, X, y, _lambda)\n",
    "    numerical_grad = numerical_gradinet_function(Theta, input_layer_size, hidden_layer_size, num_labels, X, y, _lambda)\n",
    "    \n",
    "    \n",
    "    print(np.linalg.norm(numerical_grad - grad) / np.linalg.norm(numerical_grad + grad))\n",
    "    \n",
    "def numerical_gradinet_function(Theta, input_layer_size, hidden_layer_size, num_labels, X, y, _lambda):\n",
    "    \n",
    "    new_grad = np.zeros(Theta.size)\n",
    "    p = np.zeros(Theta.size)\n",
    "    e = 1e-4\n",
    "\n",
    "    for i in range(Theta.size):\n",
    "            p[i] = e\n",
    "            j1 = neural_cost_function(Theta + p, input_layer_size, hidden_layer_size, num_labels, X, y, _lambda)\n",
    "            j2 = neural_cost_function(Theta - p, input_layer_size, hidden_layer_size, num_labels, X, y, _lambda)\n",
    "            \n",
    "            new_grad[i] = (j1 - j2) / ( 2 * e )\n",
    "            p[i] = 0\n",
    "            \n",
    "    return new_grad\n",
    "\n",
    "def debug_initialaize_weights(output_layer, input_layer):\n",
    "    \n",
    "    matrix = np.zeros((output_layer, input_layer + 1))\n",
    "    \n",
    "    return np.sin(np.arange(1,matrix.size + 1)).reshape(matrix.shape) / 10"
   ]
  },
  {
   "cell_type": "code",
   "execution_count": 71,
   "metadata": {
    "collapsed": false
   },
   "outputs": [
    {
     "name": "stdout",
     "output_type": "stream",
     "text": [
      "0.108028246104\n"
     ]
    }
   ],
   "source": [
    "checking_gradient(3)"
   ]
  },
  {
   "cell_type": "markdown",
   "metadata": {},
   "source": [
    "## Visualizing Data"
   ]
  },
  {
   "cell_type": "code",
   "execution_count": 15,
   "metadata": {
    "collapsed": false
   },
   "outputs": [
    {
     "data": {
      "image/png": "[encoded data removed]",
      "text/plain": [
       "<matplotlib.figure.Figure at 0x9939a62358>"
      ]
     },
     "metadata": {},
     "output_type": "display_data"
    }
   ],
   "source": [
    "magic_display()"
   ]
  },
  {
   "cell_type": "markdown",
   "metadata": {},
   "source": [
    "## Feedforward Propagation Algorithm"
   ]
  },
  {
   "cell_type": "code",
   "execution_count": 16,
   "metadata": {
    "collapsed": false
   },
   "outputs": [],
   "source": [
    "# Loading Weights\n",
    "weights = scipy.io.loadmat('ex4weights.mat')\n",
    "Theta1 = weights['Theta1']\n",
    "Theta2 = weights['Theta2']"
   ]
  },
  {
   "cell_type": "code",
   "execution_count": 17,
   "metadata": {
    "collapsed": false
   },
   "outputs": [
    {
     "data": {
      "text/plain": [
       "(25, 401)"
      ]
     },
     "execution_count": 17,
     "metadata": {},
     "output_type": "execute_result"
    }
   ],
   "source": [
    "Theta1.shape"
   ]
  },
  {
   "cell_type": "code",
   "execution_count": 18,
   "metadata": {
    "collapsed": false
   },
   "outputs": [
    {
     "data": {
      "text/plain": [
       "(10, 26)"
      ]
     },
     "execution_count": 18,
     "metadata": {},
     "output_type": "execute_result"
    }
   ],
   "source": [
    "Theta2.shape"
   ]
  },
  {
   "cell_type": "code",
   "execution_count": 19,
   "metadata": {
    "collapsed": false
   },
   "outputs": [],
   "source": [
    "# Converting Weigths to 1 Dimensional Matrix's\n",
    "Theta1_flat = np.array(Theta1.flat)\n",
    "Theta2_flat = np.array(Theta2.flat)\n",
    "\n",
    "# Creating New 1d Matrix for holding all of the weights\n",
    "Theta = np.concatenate((Theta1_flat, Theta2_flat))"
   ]
  },
  {
   "cell_type": "code",
   "execution_count": 21,
   "metadata": {
    "collapsed": false
   },
   "outputs": [
    {
     "data": {
      "text/plain": [
       "0.57820505840604386"
      ]
     },
     "execution_count": 21,
     "metadata": {},
     "output_type": "execute_result"
    }
   ],
   "source": [
    "neural_cost_function(Theta, input_layer_size, hidden_layer_size, num_labels, X, y, 3)"
   ]
  },
  {
   "cell_type": "code",
   "execution_count": null,
   "metadata": {
    "collapsed": true
   },
   "outputs": [],
   "source": []
  }
 ],
 "metadata": {
  "kernelspec": {
   "display_name": "Python 3",
   "language": "python",
   "name": "python3"
  },
  "language_info": {
   "codemirror_mode": {
    "name": "ipython",
    "version": 3
   },
   "file_extension": ".py",
   "mimetype": "text/x-python",
   "name": "python",
   "nbconvert_exporter": "python",
   "pygments_lexer": "ipython3",
   "version": "3.6.0"
  }
 },
 "nbformat": 4,
 "nbformat_minor": 2
}
