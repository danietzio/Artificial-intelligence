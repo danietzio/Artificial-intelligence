{
 "cells": [
  {
   "cell_type": "code",
   "execution_count": 7,
   "metadata": {
    "collapsed": true
   },
   "outputs": [],
   "source": [
    "import pandas as pd\n",
    "import numpy as np\n",
    "import seaborn as sns\n",
    "import matplotlib.pyplot as plt\n",
    "import math\n",
    "from __future__ import division\n",
    "from math import *\n",
    "from scipy.optimize import fmin_bfgs\n",
    "sns.set_style(\"whitegrid\")\n",
    "%matplotlib inline"
   ]
  },
  {
   "cell_type": "code",
   "execution_count": 8,
   "metadata": {
    "collapsed": false
   },
   "outputs": [],
   "source": [
    "df = pd.read_csv('ex2data2.txt', header=None)\n",
    "\n",
    "# number of the training examples\n",
    "m = df.shape[0]\n",
    "\n",
    "# inserting column to our data\n",
    "df.insert(0,'3', np.ones(m))"
   ]
  },
  {
   "cell_type": "code",
   "execution_count": 9,
   "metadata": {
    "collapsed": false
   },
   "outputs": [
    {
     "data": {
      "text/html": [
       "<div>\n",
       "<style>\n",
       "    .dataframe thead tr:only-child th {\n",
       "        text-align: right;\n",
       "    }\n",
       "\n",
       "    .dataframe thead th {\n",
       "        text-align: left;\n",
       "    }\n",
       "\n",
       "    .dataframe tbody tr th {\n",
       "        vertical-align: top;\n",
       "    }\n",
       "</style>\n",
       "<table border=\"1\" class=\"dataframe\">\n",
       "  <thead>\n",
       "    <tr style=\"text-align: right;\">\n",
       "      <th></th>\n",
       "      <th>one</th>\n",
       "      <th>second</th>\n",
       "      <th>third</th>\n",
       "      <th>result</th>\n",
       "    </tr>\n",
       "  </thead>\n",
       "  <tbody>\n",
       "    <tr>\n",
       "      <th>0</th>\n",
       "      <td>1.0</td>\n",
       "      <td>0.051267</td>\n",
       "      <td>0.699560</td>\n",
       "      <td>1</td>\n",
       "    </tr>\n",
       "    <tr>\n",
       "      <th>1</th>\n",
       "      <td>1.0</td>\n",
       "      <td>-0.092742</td>\n",
       "      <td>0.684940</td>\n",
       "      <td>1</td>\n",
       "    </tr>\n",
       "    <tr>\n",
       "      <th>2</th>\n",
       "      <td>1.0</td>\n",
       "      <td>-0.213710</td>\n",
       "      <td>0.692250</td>\n",
       "      <td>1</td>\n",
       "    </tr>\n",
       "    <tr>\n",
       "      <th>3</th>\n",
       "      <td>1.0</td>\n",
       "      <td>-0.375000</td>\n",
       "      <td>0.502190</td>\n",
       "      <td>1</td>\n",
       "    </tr>\n",
       "    <tr>\n",
       "      <th>4</th>\n",
       "      <td>1.0</td>\n",
       "      <td>-0.513250</td>\n",
       "      <td>0.465640</td>\n",
       "      <td>1</td>\n",
       "    </tr>\n",
       "    <tr>\n",
       "      <th>5</th>\n",
       "      <td>1.0</td>\n",
       "      <td>-0.524770</td>\n",
       "      <td>0.209800</td>\n",
       "      <td>1</td>\n",
       "    </tr>\n",
       "    <tr>\n",
       "      <th>6</th>\n",
       "      <td>1.0</td>\n",
       "      <td>-0.398040</td>\n",
       "      <td>0.034357</td>\n",
       "      <td>1</td>\n",
       "    </tr>\n",
       "    <tr>\n",
       "      <th>7</th>\n",
       "      <td>1.0</td>\n",
       "      <td>-0.305880</td>\n",
       "      <td>-0.192250</td>\n",
       "      <td>1</td>\n",
       "    </tr>\n",
       "    <tr>\n",
       "      <th>8</th>\n",
       "      <td>1.0</td>\n",
       "      <td>0.016705</td>\n",
       "      <td>-0.404240</td>\n",
       "      <td>1</td>\n",
       "    </tr>\n",
       "    <tr>\n",
       "      <th>9</th>\n",
       "      <td>1.0</td>\n",
       "      <td>0.131910</td>\n",
       "      <td>-0.513890</td>\n",
       "      <td>1</td>\n",
       "    </tr>\n",
       "  </tbody>\n",
       "</table>\n",
       "</div>"
      ],
      "text/plain": [
       "   one    second     third  result\n",
       "0  1.0  0.051267  0.699560       1\n",
       "1  1.0 -0.092742  0.684940       1\n",
       "2  1.0 -0.213710  0.692250       1\n",
       "3  1.0 -0.375000  0.502190       1\n",
       "4  1.0 -0.513250  0.465640       1\n",
       "5  1.0 -0.524770  0.209800       1\n",
       "6  1.0 -0.398040  0.034357       1\n",
       "7  1.0 -0.305880 -0.192250       1\n",
       "8  1.0  0.016705 -0.404240       1\n",
       "9  1.0  0.131910 -0.513890       1"
      ]
     },
     "execution_count": 9,
     "metadata": {},
     "output_type": "execute_result"
    }
   ],
   "source": [
    "# changing columns name\n",
    "df.columns = ['one', 'second', 'third', 'result']\n",
    "\n",
    "# head of the data\n",
    "df.head(10)"
   ]
  },
  {
   "cell_type": "code",
   "execution_count": 10,
   "metadata": {
    "collapsed": true
   },
   "outputs": [],
   "source": [
    "# Spliting X and Y values\n",
    "X = df[['one', 'second', 'third']]\n",
    "y = df['result']"
   ]
  },
  {
   "cell_type": "markdown",
   "metadata": {},
   "source": [
    "## Visualizing Data"
   ]
  },
  {
   "cell_type": "code",
   "execution_count": 16,
   "metadata": {
    "collapsed": false
   },
   "outputs": [
    {
     "data": {
      "text/plain": [
       "<seaborn.axisgrid.FacetGrid at 0xbe865e17b8>"
      ]
     },
     "execution_count": 16,
     "metadata": {},
     "output_type": "execute_result"
    },
    {
     "data": {
      "image/png": "[encoded data removed]",
      "text/plain": [
       "<matplotlib.figure.Figure at 0xbe865e1f98>"
      ]
     },
     "metadata": {},
     "output_type": "display_data"
    }
   ],
   "source": [
    "sns.lmplot(x='second', y='third', data=df, hue='result', size=9, fit_reg=False, scatter_kws={\"s\": 100})"
   ]
  },
  {
   "cell_type": "code",
   "execution_count": 64,
   "metadata": {
    "collapsed": false
   },
   "outputs": [
    {
     "data": {
      "text/plain": [
       "<matplotlib.contour.QuadContourSet at 0xbe8b6b7278>"
      ]
     },
     "execution_count": 64,
     "metadata": {},
     "output_type": "execute_result"
    },
    {
     "data": {
      "image/png": "[encoded data removed]",
      "text/plain": [
       "<matplotlib.figure.Figure at 0xbe8b6dd358>"
      ]
     },
     "metadata": {},
     "output_type": "display_data"
    }
   ],
   "source": [
    "# Plotting boundry line\n",
    "sns.lmplot(x='second', y='third', data=df, hue='result', size=9, fit_reg=False, scatter_kws={\"s\": 100})\n",
    "plt.contour(u,v,z,1)"
   ]
  },
  {
   "cell_type": "markdown",
   "metadata": {},
   "source": [
    "# Compuations Section"
   ]
  },
  {
   "cell_type": "code",
   "execution_count": 59,
   "metadata": {
    "collapsed": false
   },
   "outputs": [],
   "source": [
    "# Initialization\n",
    "m_row = X.shape[0]\n",
    "\n",
    "# Creating new features for getting more complicated plot\n",
    "X_new = mapFeature(X)\n",
    "m_column = X_new.shape[1]\n",
    "\n",
    "_lambda = 0\n",
    "theta = pd.Series(np.zeros(m_column))"
   ]
  },
  {
   "cell_type": "code",
   "execution_count": 60,
   "metadata": {
    "collapsed": false
   },
   "outputs": [
    {
     "data": {
      "text/plain": [
       "0    0.008475\n",
       "1    0.018788\n",
       "2    0.000078\n",
       "3    0.050345\n",
       "4    0.011501\n",
       "dtype: float64"
      ]
     },
     "execution_count": 60,
     "metadata": {},
     "output_type": "execute_result"
    }
   ],
   "source": [
    "gradient_function(theta, X_new, y, _lambda).T[0:5]"
   ]
  },
  {
   "cell_type": "code",
   "execution_count": 61,
   "metadata": {
    "collapsed": false
   },
   "outputs": [
    {
     "data": {
      "text/plain": [
       "0.6931471804582503"
      ]
     },
     "execution_count": 61,
     "metadata": {},
     "output_type": "execute_result"
    }
   ],
   "source": [
    "cost_function(theta,X_new, y, _lambda)"
   ]
  },
  {
   "cell_type": "code",
   "execution_count": 62,
   "metadata": {
    "collapsed": false
   },
   "outputs": [
    {
     "name": "stdout",
     "output_type": "stream",
     "text": [
      "Warning: Maximum number of iterations has been exceeded.\n",
      "         Current function value: 0.263499\n",
      "         Iterations: 400\n",
      "         Function evaluations: 401\n",
      "         Gradient evaluations: 401\n"
     ]
    }
   ],
   "source": [
    "xopt = fmin_bfgs(f= cost_function,\n",
    "                 x0= theta,\n",
    "                 fprime= gradient_function,\n",
    "                 args=(X_new,y, _lambda),\n",
    "                 maxiter=400)"
   ]
  },
  {
   "cell_type": "code",
   "execution_count": 63,
   "metadata": {
    "collapsed": false
   },
   "outputs": [],
   "source": [
    "# Here is the grid range\n",
    "u = np.linspace(-1,1.5,50)\n",
    "v = np.linspace(-1,1.5,50)\n",
    "\n",
    "z = np.zeros((u.size,v.size))\n",
    "\n",
    "for i in range(u.size):\n",
    "    for j in range(v.size):\n",
    "        dd = pd.DataFrame([1, u[i], v[j]]).T\n",
    "        dd.columns = ['one', 'second', 'third']\n",
    "        z[i,j] = mapFeature(dd).dot(xopt)\n",
    "z = z.T"
   ]
  },
  {
   "cell_type": "markdown",
   "metadata": {},
   "source": [
    "# Functions Section"
   ]
  },
  {
   "cell_type": "code",
   "execution_count": 19,
   "metadata": {
    "collapsed": false
   },
   "outputs": [],
   "source": [
    "# Map featuring\n",
    "def mapFeature(X, degree= 7) :\n",
    "    count = 0;\n",
    "    X_new = pd.DataFrame(np.ones(X.shape[0]))\n",
    "    for i in range(degree):\n",
    "        for j in range(i + 1):\n",
    "            X_new[count] = ( X['second'] ** (i - j) ) * ( X['third'] ** j )\n",
    "            count += 1\n",
    "            \n",
    "    return X_new\n",
    "\n",
    "#functions Sections\n",
    "def sigmoid(x):\n",
    "    return ( 1 / ( 1 + e ** ( -1 * x)))\n",
    "\n",
    "def cost_function(theta,X,y, _lam):\n",
    "    J = 0\n",
    "\n",
    "    # finding hypothesis\n",
    "    h = pd.Series(np.dot( theta.T, X.T ).T)\n",
    "    \n",
    "    # Computing Log(sigmoid(x)) for all of the hypotesis elements\n",
    "    h1 = sigmoid(h).apply(log)\n",
    "    \n",
    "    # Computing Log( 1 - simgoid(x)) for all of the hypotesis elements\n",
    "    h2 = (1.0000000001 - sigmoid(h)).apply(log)\n",
    "    \n",
    "    #Computing Cost of the hypotesis\n",
    "    J =  ( -1 / m_row ) * ( y.T.dot(h1) + ( 1 - y ).T.dot(h2)) + ( _lam / ( 2 * m_row ) * sum( theta ** 2 ))\n",
    "    \n",
    "    return J\n",
    "\n",
    "def gradient_function( theta,X, y,  _lam):\n",
    "    # finding hypotesis matrix\n",
    "    h = pd.Series(np.dot( theta.T, X.T ).T)\n",
    "    h = sigmoid(h)\n",
    "\n",
    "    # Computing the Gradient Of the Hypotesis\n",
    "    grad = pd.Series(np.zeros(m_column))\n",
    "    grad[0] = ( 1 / m_row ) * ( ( h - y ).T.dot(X[0]).T )\n",
    "    grad[1:] = ( 1 / m_row ) * ( ( h - y ).T.dot( X.T[1:].T ).T ) + ( _lam / m_row ) * theta[1:]\n",
    "    \n",
    "    return grad\n",
    "\n",
    "def gradient_algo(X, y, theta, _lam):\n",
    "    for n in range(iterations):\n",
    "        \n",
    "        # finding gradient of each element\n",
    "        grad = gradient_function(X, y, theta, _lam)\n",
    "\n",
    "        # decreasing theta\n",
    "        theta = theta - alpha * ( grad )\n",
    "        \n",
    "        #saving all of the costs\n",
    "        global last_j\n",
    "        last_j[n] = cost_function(X, y, theta, _lam)\n",
    "        \n",
    "    return theta"
   ]
  },
  {
   "cell_type": "code",
   "execution_count": null,
   "metadata": {
    "collapsed": true
   },
   "outputs": [],
   "source": []
  }
 ],
 "metadata": {
  "kernelspec": {
   "display_name": "Python 3",
   "language": "python",
   "name": "python3"
  },
  "language_info": {
   "codemirror_mode": {
    "name": "ipython",
    "version": 3
   },
   "file_extension": ".py",
   "mimetype": "text/x-python",
   "name": "python",
   "nbconvert_exporter": "python",
   "pygments_lexer": "ipython3",
   "version": "3.6.0"
  }
 },
 "nbformat": 4,
 "nbformat_minor": 2
}
